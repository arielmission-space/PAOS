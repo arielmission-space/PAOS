{
 "cells": [
  {
   "cell_type": "code",
   "execution_count": 1,
   "metadata": {
    "collapsed": true
   },
   "outputs": [],
   "source": [
    "%load_ext autoreload\n",
    "%autoreload 2"
   ]
  },
  {
   "cell_type": "code",
   "execution_count": 2,
   "outputs": [],
   "source": [
    "import time\n",
    "\n",
    "import matplotlib.pyplot as plt\n",
    "import numpy as np\n",
    "import proper\n",
    "\n",
    "from paos.core.parseConfig import parse_config\n",
    "from paos.core.run import run"
   ],
   "metadata": {
    "collapsed": false
   }
  },
  {
   "cell_type": "code",
   "execution_count": 3,
   "outputs": [],
   "source": [
    "# def extent(wfarr, dx, dy):\n",
    "#     return (-wfarr.shape[1] // 2 * dx, (wfarr.shape[1] // 2 - 1) * dx,\n",
    "#             -wfarr.shape[0] // 2 * dy, (wfarr.shape[0] // 2 - 1) * dy)\n",
    "\n",
    "def push_results(wfo, init=False):\n",
    "    if init:\n",
    "        fratio = proper.prop_get_fratio(wfo)\n",
    "        retval = {'fratio': fratio if fratio < 1e9 else np.inf}\n",
    "    else:\n",
    "        fratio = proper.prop_get_fratio(wfo)\n",
    "        retval = {'amplitude': proper.prop_get_amplitude(wfo),\n",
    "                  'wz': proper.prop_get_beamradius(wfo),\n",
    "                  'distancetofocus': proper.prop_get_distancetofocus(wfo),\n",
    "                  'phase': proper.prop_get_phase(wfo),  # phase angles in proper are defined in the opposite sense\n",
    "                  'dx': proper.prop_get_sampling(wfo),\n",
    "                  'dy': proper.prop_get_sampling(wfo),\n",
    "                  'wfo': proper.prop_get_wavefront(wfo),\n",
    "                  'wl': proper.prop_get_wavelength(wfo),\n",
    "                  'aperture': None,\n",
    "                  'fratio': fratio if fratio < 1e9 else np.inf\n",
    "                  }\n",
    "        # retval['extent'] = extent(retval['wfo'], retval['dx'], retval['dy'])\n",
    "    return retval"
   ],
   "metadata": {
    "collapsed": false
   }
  },
  {
   "cell_type": "code",
   "execution_count": 4,
   "outputs": [],
   "source": [
    "def template(wl, gridsize, PASSVALUE=None):\n",
    "    if PASSVALUE is None:\n",
    "        PASSVALUE = {}\n",
    "    proper.print_it = True\n",
    "\n",
    "    start_time = time.time()\n",
    "\n",
    "    # Define entrance aperture diameter and other quantities\n",
    "    diam = 1.0  # telescope diameter in meters\n",
    "    fl_pri = 1.0  # primary focal length (m)\n",
    "    d_pri_to_focus = 1.0  # distance from primary to focus\n",
    "    beam_ratio = 0.25  # initial beam width/grid width\n",
    "\n",
    "    # Define the wavefront\n",
    "    wfo = proper.prop_begin(diam, wl, gridsize, beam_ratio)\n",
    "    proper.prop_set_antialiasing(nsub=101)\n",
    "\n",
    "    # Define a circular aperture\n",
    "    proper.prop_circular_aperture(wfo, diam / 2)  # aperture (primary mirror)\n",
    "\n",
    "    # Define entrance\n",
    "    proper.prop_define_entrance(wfo)\n",
    "\n",
    "    # Define a lens\n",
    "    PASSVALUE[0] = push_results(wfo, init=True)\n",
    "    proper.prop_lens(wfo, fl_pri, \"primary\")  # primary mirror\n",
    "    PASSVALUE[0].update(push_results(wfo))\n",
    "\n",
    "    PASSVALUE[1] = push_results(wfo)\n",
    "    proper.prop_propagate(wfo, d_pri_to_focus, \"focus\", TO_PLANE=False)\n",
    "    PASSVALUE[1].update(push_results(wfo))\n",
    "\n",
    "    # End\n",
    "    (wfo, sampling) = proper.prop_end(wfo)\n",
    "\n",
    "    end_time = time.time()\n",
    "\n",
    "    if proper.print_it:\n",
    "        print(\"Total elapsed time (seconds) = %8.4f\" % (end_time - start_time))\n",
    "\n",
    "    return PASSVALUE\n",
    "\n",
    "\n",
    "def hubble_simple(wl, gridsize, PASSVALUE=None):\n",
    "    if PASSVALUE is None:\n",
    "        PASSVALUE = {}\n",
    "    proper.print_it = True\n",
    "\n",
    "    start_time = time.time()\n",
    "\n",
    "    # Define entrance aperture diameter and other quantities\n",
    "    diam = 2.4  # telescope diameter in meters\n",
    "    fl_pri = 5.52085  # HST primary focal length (m)\n",
    "    d_pri_sec = 4.907028205  # primary to secondary separation (m)\n",
    "    fl_sec = -0.6790325  # HST secondary focal length (m)\n",
    "    d_sec_to_focus = 6.3919974  # nominal distance from secondary to focus\n",
    "    beam_ratio = 0.25  # initial beam width/grid width\n",
    "\n",
    "    # Define the wavefront\n",
    "    wfo = proper.prop_begin(diam, wl, gridsize, beam_ratio)\n",
    "    proper.prop_set_antialiasing(nsub=101)\n",
    "\n",
    "    # Define a circular aperture\n",
    "    proper.prop_circular_aperture(wfo, diam / 2)  # HST aperture (primary mirror)\n",
    "    proper.prop_circular_obscuration(wfo, 0.396)  # secondary mirror obscuration\n",
    "    proper.prop_rectangular_obscuration(wfo, 0.0264, 2.5)  # secondary vane (vertical)\n",
    "    proper.prop_rectangular_obscuration(wfo, 2.5, 0.0264)  # secondary vane (horizontal)\n",
    "    proper.prop_circular_obscuration(wfo, 0.078, -0.9066, -0.5538)  # primary mirror pad 1\n",
    "    proper.prop_circular_obscuration(wfo, 0.078, 0., 1.0705)  # primary mirror pad 2\n",
    "    proper.prop_circular_obscuration(wfo, 0.078, 0.9127, -0.5477)  # primary mirror pad 3\n",
    "\n",
    "    # Define entrance\n",
    "    proper.prop_define_entrance(wfo)\n",
    "\n",
    "    # Define a lens\n",
    "    PASSVALUE[0] = push_results(wfo, init=True)\n",
    "    proper.prop_lens(wfo, fl_pri, \"primary\")  # primary mirror\n",
    "    PASSVALUE[0].update(push_results(wfo))\n",
    "\n",
    "    # Propagate the wavefront\n",
    "    proper.prop_propagate(wfo, d_pri_sec, \"secondary\")\n",
    "\n",
    "    PASSVALUE[1] = push_results(wfo)\n",
    "    proper.prop_lens(wfo, fl_sec, \"secondary\")\n",
    "    PASSVALUE[1].update(push_results(wfo))\n",
    "\n",
    "    PASSVALUE[2] = push_results(wfo)\n",
    "    proper.prop_propagate(wfo, d_sec_to_focus, \"HST focus\", TO_PLANE=False)\n",
    "    PASSVALUE[2].update(push_results(wfo))\n",
    "\n",
    "    # End\n",
    "    (wfo, sampling) = proper.prop_end(wfo)\n",
    "\n",
    "    end_time = time.time()\n",
    "\n",
    "    if proper.print_it:\n",
    "        print(\"Total elapsed time (seconds) = %8.4f\" % (end_time - start_time))\n",
    "\n",
    "    return PASSVALUE"
   ],
   "metadata": {
    "collapsed": false
   }
  },
  {
   "cell_type": "markdown",
   "source": [
    "## Validation"
   ],
   "metadata": {
    "collapsed": false
   }
  },
  {
   "cell_type": "markdown",
   "source": [
    "# Super simple model"
   ],
   "metadata": {
    "collapsed": false
   }
  },
  {
   "cell_type": "markdown",
   "source": [
    "## PAOS"
   ],
   "metadata": {
    "collapsed": false
   }
  },
  {
   "cell_type": "code",
   "execution_count": 5,
   "outputs": [],
   "source": [
    "pup_diameter, parameters, wavelengths, fields, opt_chains = parse_config('./template.ini')\n",
    "wavelength, opt_chain = wavelengths[0], opt_chains[0]\n",
    "template_retval_paos = run(pup_diameter, 1.0e-6 * wavelength, parameters['grid_size'], parameters['zoom'], fields[0], opt_chain)\n",
    "template_paos_key = list(template_retval_paos.keys())[-1]  # plot at last optical surface\n",
    "template_paos_item = template_retval_paos[template_paos_key]"
   ],
   "metadata": {
    "collapsed": false
   }
  },
  {
   "cell_type": "markdown",
   "source": [
    "## Proper"
   ],
   "metadata": {
    "collapsed": false
   }
  },
  {
   "cell_type": "code",
   "execution_count": 6,
   "outputs": [
    {
     "name": "stdout",
     "output_type": "stream",
     "text": [
      "Applying lens at primary\n",
      "Propagating to focus\n",
      "Total elapsed time (seconds) =   0.8229\n"
     ]
    }
   ],
   "source": [
    "template_retval_proper = template(wl=1.1e-6, gridsize=1024, PASSVALUE={})\n",
    "template_proper_key = list(template_retval_proper.keys())[-1]  # plot at last optical surface\n",
    "template_proper_item = template_retval_proper[template_proper_key]"
   ],
   "metadata": {
    "collapsed": false
   }
  },
  {
   "cell_type": "markdown",
   "source": [
    "# Hubble simple"
   ],
   "metadata": {
    "collapsed": false
   }
  },
  {
   "cell_type": "markdown",
   "source": [
    "## PAOS"
   ],
   "metadata": {
    "collapsed": false
   }
  },
  {
   "cell_type": "code",
   "execution_count": 7,
   "outputs": [],
   "source": [
    "pup_diameter, parameters, wavelengths, fields, opt_chains = parse_config('./Hubble_simple.ini')\n",
    "wavelength, opt_chain = wavelengths[0], opt_chains[0]\n",
    "hubble_retval_paos = run(pup_diameter, 1.0e-6 * wavelength, parameters['grid_size'], parameters['zoom'], fields[0], opt_chain)\n",
    "hubble_paos_key = list(hubble_retval_paos.keys())[-1]  # plot at last optical surface\n",
    "hubble_paos_item = hubble_retval_paos[hubble_paos_key]"
   ],
   "metadata": {
    "collapsed": false
   }
  },
  {
   "cell_type": "markdown",
   "source": [
    "## Proper"
   ],
   "metadata": {
    "collapsed": false
   }
  },
  {
   "cell_type": "code",
   "execution_count": 8,
   "outputs": [
    {
     "name": "stdout",
     "output_type": "stream",
     "text": [
      "Applying lens at primary\n",
      "Propagating to secondary\n",
      "Applying lens at secondary\n",
      "Propagating to HST focus\n",
      "Total elapsed time (seconds) =   2.3901\n"
     ]
    }
   ],
   "source": [
    "hubble_retval_proper = hubble_simple(wl=1.1e-6, gridsize=1024, PASSVALUE={})\n",
    "hubble_proper_key = list(hubble_retval_proper.keys())[-1]  # plot at last optical surface\n",
    "hubble_proper_item = hubble_retval_proper[hubble_proper_key]"
   ],
   "metadata": {
    "collapsed": false
   }
  },
  {
   "cell_type": "markdown",
   "source": [
    "# Plot"
   ],
   "metadata": {
    "collapsed": false
   }
  },
  {
   "cell_type": "code",
   "execution_count": 9,
   "outputs": [],
   "source": [
    "# plt.style.use('seaborn-talk')"
   ],
   "metadata": {
    "collapsed": false
   }
  },
  {
   "cell_type": "code",
   "execution_count": 10,
   "outputs": [],
   "source": [
    "from matplotlib.legend_handler import HandlerLine2D\n",
    "\n",
    "\n",
    "def update_width(handle, orig, linewidth=1.5):\n",
    "    handle.update_from(orig)\n",
    "    handle.set_linewidth(linewidth)\n",
    "\n",
    "\n",
    "def do_legend(ax, ncol=2, fontsize=8, framealpha=1, markerscale=1, handlelength=1.5):\n",
    "    ax.legend(loc='lower center', ncol=ncol, fontsize=fontsize, framealpha=framealpha, markerscale=markerscale,\n",
    "              # Make marker for line thicker\n",
    "              handlelength=handlelength,\n",
    "              handler_map={plt.Line2D: HandlerLine2D(update_func=update_width)}\n",
    "              ).get_frame().set_facecolor('white')\n",
    "\n",
    "# Use colorblind-friendly colors\n",
    "import seaborn as sns\n",
    "palette = sns.color_palette('colorblind')\n",
    "plt.rcParams['axes.prop_cycle'] = plt.cycler(color=palette)\n",
    "# Make font normalweight\n",
    "plt.rcParams['font.weight'] = 'normal'"
   ],
   "metadata": {
    "collapsed": false
   }
  },
  {
   "cell_type": "code",
   "execution_count": 11,
   "outputs": [],
   "source": [
    "template_paos_psf = template_paos_item['amplitude'] ** 2\n",
    "template_proper_psf = template_proper_item['amplitude'] ** 2\n",
    "hubble_paos_psf = hubble_paos_item['amplitude'] ** 2\n",
    "hubble_proper_psf = hubble_proper_item['amplitude'] ** 2\n",
    "\n",
    "template_paos_psf_dB = template_paos_psf / np.max(template_paos_psf)\n",
    "template_proper_psf_dB = template_proper_psf / np.max(template_proper_psf)\n",
    "hubble_paos_psf_dB = hubble_paos_psf / np.max(hubble_paos_psf)\n",
    "hubble_proper_psf_dB = hubble_proper_psf / np.max(hubble_proper_psf)\n",
    "\n",
    "template_paos_psf_dB = 10 * np.log10(template_paos_psf_dB)\n",
    "template_proper_psf_dB = 10 * np.log10(template_proper_psf_dB)\n",
    "hubble_paos_psf_dB = 10 * np.log10(hubble_paos_psf_dB)\n",
    "hubble_proper_psf_dB = 10 * np.log10(hubble_proper_psf_dB)\n",
    "\n",
    "\n",
    "# # Plot the slice of the psf for template and hubble, with PAOS and PROPER\n",
    "#\n",
    "# fig, axes = plt.subplots(2, 2, figsize=(10, 10 / 1.618), dpi=300)\n",
    "# axes = axes.flatten()\n",
    "#\n",
    "# axes[0].plot(template_paos_psf_dB[512, :], alpha=0.7, lw=0.5, label='PAOS', color='C0')\n",
    "# axes[0].plot(template_proper_psf_dB[512, :], alpha=0.7, lw=0.5, label='PROPER', color='C1')\n",
    "# axes[0].set_title('Template PSF')\n",
    "# axes[0].set_xlabel('x')\n",
    "# axes[0].set_ylabel('power/pix [dB]')\n",
    "# do_legend(axes[0])\n",
    "#\n",
    "# axes[1].plot(template_proper_psf[512, :] - template_paos_psf[512, :], lw=0.5, label='PROPER - PAOS', color='C2')\n",
    "# axes[1].set_title('Difference')\n",
    "# axes[1].set_xlabel('x')\n",
    "# axes[1].set_ylabel('power/pix')\n",
    "# do_legend(axes[1])\n",
    "#\n",
    "# axes[2].plot(hubble_paos_psf_dB[512, :], alpha=0.7, lw=0.5, label='PAOS', color='C0')\n",
    "# axes[2].plot(hubble_proper_psf_dB[512, :], alpha=0.7, lw=0.5, label='PROPER', color='C1')\n",
    "# axes[2].set_title('Hubble PSF')\n",
    "# axes[2].set_xlabel('x')\n",
    "# axes[2].set_ylabel('power/pix [dB]')\n",
    "# do_legend(axes[2])\n",
    "#\n",
    "# axes[3].plot(hubble_proper_psf[512, :] - hubble_paos_psf[512, :], lw=0.5, label='PROPER - PAOS', color='C2')\n",
    "# axes[3].set_title('Difference')\n",
    "# axes[3].set_xlabel('x')\n",
    "# axes[3].set_ylabel('power/pix')\n",
    "# # adjust ylim to make room for legend\n",
    "# axes[3].set_ylim(top=axes[3].get_ylim()[1] * 3)\n",
    "# do_legend(axes[3])\n",
    "#\n",
    "# plt.tight_layout()\n",
    "# plt.show()\n",
    "#\n",
    "# # Plot the slice of the psf for template and hubble, with PAOS and PROPER\n",
    "#\n",
    "# fig, axes = plt.subplots(2, 2, figsize=(10, 10 / 1.618), dpi=300)\n",
    "# axes = axes.flatten()\n",
    "#\n",
    "# axes[0].plot(template_paos_psf_dB[:, 512], alpha=0.7, lw=0.5, label='PAOS', color='C0')\n",
    "# axes[0].plot(template_proper_psf_dB[:, 512], alpha=0.7, lw=0.5, label='PROPER', color='C1')\n",
    "# axes[0].set_title('Template PSF')\n",
    "# axes[0].set_xlabel('x')\n",
    "# axes[0].set_ylabel('power/pix [dB]')\n",
    "# do_legend(axes[0])\n",
    "#\n",
    "# axes[1].plot(template_proper_psf[:, 512] - template_paos_psf[:, 512], lw=0.5, label='PROPER - PAOS', color='C2')\n",
    "# axes[1].set_title('Difference')\n",
    "# axes[1].set_xlabel('x')\n",
    "# axes[1].set_ylabel('power/pix')\n",
    "# do_legend(axes[1])\n",
    "#\n",
    "# axes[2].plot(hubble_paos_psf_dB[:, 512], alpha=0.7, lw=0.5, label='PAOS', color='C0')\n",
    "# axes[2].plot(hubble_proper_psf_dB[:, 512], alpha=0.7, lw=0.5, label='PROPER', color='C1')\n",
    "# axes[2].set_title('Hubble PSF')\n",
    "# axes[2].set_xlabel('x')\n",
    "# axes[2].set_ylabel('power/pix [dB]')\n",
    "# do_legend(axes[2])\n",
    "#\n",
    "# axes[3].plot(hubble_proper_psf[:, 512] - hubble_paos_psf[:, 512], lw=0.5, label='PROPER - PAOS', color='C2')\n",
    "# axes[3].set_title('Difference')\n",
    "# axes[3].set_xlabel('x')\n",
    "# axes[3].set_ylabel('power/pix')\n",
    "# # adjust ylim to make room for legend\n",
    "# axes[3].set_ylim(top=axes[3].get_ylim()[1] * 3)\n",
    "# do_legend(axes[3])\n",
    "#\n",
    "# plt.tight_layout()\n",
    "# plt.show()"
   ],
   "metadata": {
    "collapsed": false
   }
  },
  {
   "cell_type": "code",
   "execution_count": 12,
   "outputs": [],
   "source": [
    "# Do a single plot with only the hubbles psf\n",
    "\n",
    "fig, axes = plt.subplots(2, 2, figsize=(10, 10 / 1.618), dpi=300)\n",
    "axes = axes.flatten()\n",
    "\n",
    "axes[0].plot(hubble_paos_psf_dB[512, :], alpha=0.7, lw=0.5, label='PAOS', color='C0')\n",
    "axes[0].plot(hubble_proper_psf_dB[512, :], alpha=0.7, lw=0.5, label='PROPER', color='C1')\n",
    "axes[0].set_title('HST PSF (x slice)', fontweight='normal')\n",
    "axes[0].set_xlabel('x [pix]', fontweight='normal')\n",
    "axes[0].set_ylabel('power/pix [dB]', fontweight='normal')\n",
    "do_legend(axes[0])\n",
    "\n",
    "axes[1].plot(hubble_proper_psf_dB[512, :] - hubble_paos_psf_dB[512, :], lw=0.5, label='PROPER - PAOS', color='C2')\n",
    "axes[1].set_title('Difference', fontweight='normal')\n",
    "axes[1].set_xlabel('x [pix]', fontweight='normal')\n",
    "axes[1].set_ylabel('power/pix [dB]', fontweight='normal')\n",
    "do_legend(axes[1])\n",
    "\n",
    "axes[2].plot(hubble_paos_psf_dB[:, 512], alpha=0.7, lw=0.5, label='PAOS', color='C0')\n",
    "axes[2].plot(hubble_proper_psf_dB[:, 512], alpha=0.7, lw=0.5, label='PROPER', color='C1')\n",
    "axes[2].set_title('HST PSF (y slice)', fontweight='normal')\n",
    "axes[2].set_xlabel('y [pix]', fontweight='normal')\n",
    "axes[2].set_ylabel('power/pix [dB]', fontweight='normal')\n",
    "do_legend(axes[2])\n",
    "\n",
    "axes[3].plot(hubble_proper_psf_dB[:, 512] - hubble_paos_psf_dB[:, 512], lw=0.5, label='PROPER - PAOS', color='C2')\n",
    "axes[3].set_title('Difference', fontweight='normal')\n",
    "axes[3].set_xlabel('y [pix]', fontweight='normal')\n",
    "axes[3].set_ylabel('power/pix [dB]', fontweight='normal')\n",
    "do_legend(axes[3])\n",
    "\n",
    "plt.tight_layout()\n",
    "# plt.show()\n",
    "\n",
    "plt.savefig('figures/hubble_psf_comparison.pdf', bbox_inches='tight', dpi=300)\n",
    "plt.close()"
   ],
   "metadata": {
    "collapsed": false
   }
  },
  {
   "cell_type": "code",
   "execution_count": 13,
   "outputs": [],
   "source": [
    "# # Plot the psf for template and hubble, with PAOS and PROPER\n",
    "# from mpl_toolkits.axes_grid1 import make_axes_locatable\n",
    "#\n",
    "# # from matplotlib.colors import LogNorm\n",
    "#\n",
    "# fig, axes = plt.subplots(2, 3, figsize=(12, 8))\n",
    "# axes = axes.flatten()\n",
    "#\n",
    "# template_paos_psf = template_paos_item['amplitude'] ** 2\n",
    "# template_proper_psf = template_proper_item['amplitude'] ** 2\n",
    "# hubble_paos_psf = hubble_paos_item['amplitude'] ** 2\n",
    "# hubble_proper_psf = hubble_proper_item['amplitude'] ** 2\n",
    "#\n",
    "# # template_paos_psf_dB = template_paos_psf / np.max(template_paos_psf)\n",
    "# template_paos_psf_dB = 10 * np.log10(template_paos_psf)\n",
    "# im0 = axes[0].imshow(template_paos_psf_dB, vmin=-60, vmax=0)\n",
    "# axes[0].set_title('PAOS (template)')\n",
    "# divider = make_axes_locatable(axes[0])\n",
    "# cax0 = divider.append_axes('right', size='5%', pad=0.05)\n",
    "# plt.colorbar(im0, cax=cax0)\n",
    "#\n",
    "# # template_proper_psf_dB = template_proper_psf / np.max(template_proper_psf)\n",
    "# template_proper_psf_dB = 10 * np.log10(template_proper_psf)\n",
    "# im1 = axes[1].imshow(template_proper_psf_dB, vmin=-60, vmax=0)\n",
    "# axes[1].set_title('PROPER (template)')\n",
    "# divider = make_axes_locatable(axes[1])\n",
    "# cax1 = divider.append_axes('right', size='5%', pad=0.05)\n",
    "# plt.colorbar(im1, cax=cax1)\n",
    "#\n",
    "# template_diff = template_paos_psf - template_proper_psf\n",
    "# im2 = axes[2].imshow(template_diff)\n",
    "# axes[2].set_title('Difference')\n",
    "# divider = make_axes_locatable(axes[2])\n",
    "# cax2 = divider.append_axes('right', size='5%', pad=0.05)\n",
    "# plt.colorbar(im2, cax=cax2)\n",
    "#\n",
    "# # hubble_paos_psf_dB = hubble_paos_psf / np.max(hubble_paos_psf)\n",
    "# hubble_paos_psf_dB = 10 * np.log10(hubble_paos_psf)\n",
    "# im3 = axes[3].imshow(hubble_paos_psf_dB, vmin=-60, vmax=0)\n",
    "# axes[3].set_title('PAOS (HST)')\n",
    "# divider = make_axes_locatable(axes[3])\n",
    "# cax3 = divider.append_axes('right', size='5%', pad=0.05)\n",
    "# plt.colorbar(im3, cax=cax3)\n",
    "#\n",
    "# # hubble_proper_psf_dB = hubble_proper_psf / np.max(hubble_proper_psf)\n",
    "# hubble_proper_psf_dB = 10 * np.log10(hubble_proper_psf)\n",
    "# im4 = axes[4].imshow(hubble_proper_psf_dB, vmin=-60, vmax=0)\n",
    "# axes[4].set_title('PROPER (HST)')\n",
    "# divider = make_axes_locatable(axes[4])\n",
    "# cax4 = divider.append_axes('right', size='5%', pad=0.05)\n",
    "# plt.colorbar(im4, cax=cax4)\n",
    "#\n",
    "# hubble_diff = hubble_paos_psf - hubble_proper_psf\n",
    "# im5 = axes[5].imshow(hubble_diff)\n",
    "# axes[5].set_title('Difference')\n",
    "# divider = make_axes_locatable(axes[5])\n",
    "# cax5 = divider.append_axes('right', size='5%', pad=0.05)\n",
    "# plt.colorbar(im5, cax=cax5)\n",
    "#\n",
    "# for ax in axes:\n",
    "#     # ax.set_xticks([])\n",
    "#     # ax.set_yticks([])\n",
    "#     ax.set_xlabel('x (pixels)')\n",
    "#     ax.set_ylabel('y (pixels)')\n",
    "#     ax.set_xlim([1024 // 2 - 16, 1024 // 2 + 16])\n",
    "#     ax.set_ylim([1024 // 2 - 16, 1024 // 2 + 16])\n",
    "#\n",
    "# plt.tight_layout()\n",
    "# plt.show()"
   ],
   "metadata": {
    "collapsed": false
   }
  },
  {
   "cell_type": "code",
   "execution_count": 23,
   "outputs": [
    {
     "name": "stderr",
     "output_type": "stream",
     "text": [
      "/tmp/ipykernel_186492/1439922947.py:15: MatplotlibDeprecationWarning: Auto-removal of grids by pcolor() and pcolormesh() is deprecated since 3.5 and will be removed two minor releases later; please call grid(False) first.\n",
      "  plt.colorbar(im3, cax=cax3, label='power/pix [dB]')\n",
      "/tmp/ipykernel_186492/1439922947.py:21: MatplotlibDeprecationWarning: Auto-removal of grids by pcolor() and pcolormesh() is deprecated since 3.5 and will be removed two minor releases later; please call grid(False) first.\n",
      "  plt.colorbar(im4, cax=cax4, label='power/pix [dB]')\n",
      "/tmp/ipykernel_186492/1439922947.py:35: MatplotlibDeprecationWarning: Auto-removal of grids by pcolor() and pcolormesh() is deprecated since 3.5 and will be removed two minor releases later; please call grid(False) first.\n",
      "  plt.colorbar(im5, cax=cax5, label='power/pix [dB]')\n"
     ]
    }
   ],
   "source": [
    "# Plot the psf for template and hubble, with PAOS and PROPER\n",
    "from mpl_toolkits.axes_grid1 import make_axes_locatable\n",
    "# use viridis colormap\n",
    "plt.rcParams['image.cmap'] = 'viridis'\n",
    "# normalweight labels\n",
    "plt.rcParams['axes.labelweight'] = 'normal'\n",
    "\n",
    "fig, axes = plt.subplots(1, 3, figsize=(12, 12/1.618), dpi=300)\n",
    "axes = axes.flatten()\n",
    "\n",
    "im3 = axes[0].imshow(hubble_paos_psf_dB, vmin=-60)\n",
    "axes[0].set_title('HST PSF (PAOS)', fontweight='normal')\n",
    "divider = make_axes_locatable(axes[0])\n",
    "cax3 = divider.append_axes('right', size='5%', pad=0.05)\n",
    "plt.colorbar(im3, cax=cax3, label='power/pix [dB]')\n",
    "\n",
    "im4 = axes[1].imshow(hubble_proper_psf_dB, vmin=-60)\n",
    "axes[1].set_title('HST PSF (PROPER)', fontweight='normal')\n",
    "divider = make_axes_locatable(axes[1])\n",
    "cax4 = divider.append_axes('right', size='5%', pad=0.05)\n",
    "plt.colorbar(im4, cax=cax4, label='power/pix [dB]')\n",
    "\n",
    "diff_db = hubble_proper_psf_dB - hubble_paos_psf_dB\n",
    "# get percentiles for vmin and vmax using 0.27% and 99.73% percentiles\n",
    "# take diff_db inside the window of 32 pixels centered on the center of the image\n",
    "diff_db_window = diff_db[1024 // 2 - 32:1024 // 2 + 32, 1024 // 2 - 32:1024 // 2 + 32]\n",
    "# vmin = np.percentile(diff_db_window, 0.27)\n",
    "# vmax = np.percentile(diff_db_window, 99.73)\n",
    "vmin = diff_db_window.min()\n",
    "vmax = diff_db_window.max()\n",
    "im5 = axes[2].imshow(hubble_proper_psf_dB - hubble_paos_psf_dB, vmin=vmin, vmax=vmax)\n",
    "axes[2].set_title('PROPER - PAOS', fontweight='normal')\n",
    "divider = make_axes_locatable(axes[2])\n",
    "cax5 = divider.append_axes('right', size='5%', pad=0.05)\n",
    "plt.colorbar(im5, cax=cax5, label='power/pix [dB]')\n",
    "\n",
    "for ax in axes:\n",
    "    ax.set_xlabel('x (pixels)')\n",
    "    ax.set_ylabel('y (pixels)')\n",
    "    ax.set_xlim([1024 // 2 - 32, 1024 // 2 + 32])\n",
    "    ax.set_ylim([1024 // 2 - 32, 1024 // 2 + 32])\n",
    "    # remove grid\n",
    "    ax.grid(False)\n",
    "\n",
    "plt.tight_layout()\n",
    "\n",
    "plt.savefig('figures/hubble_psf2d_comparison.pdf', bbox_inches='tight', dpi=300)\n",
    "plt.close()"
   ],
   "metadata": {
    "collapsed": false
   }
  },
  {
   "cell_type": "code",
   "execution_count": 14,
   "outputs": [],
   "source": [],
   "metadata": {
    "collapsed": false
   }
  }
 ],
 "metadata": {
  "kernelspec": {
   "display_name": "Python 3",
   "language": "python",
   "name": "python3"
  },
  "language_info": {
   "codemirror_mode": {
    "name": "ipython",
    "version": 2
   },
   "file_extension": ".py",
   "mimetype": "text/x-python",
   "name": "python",
   "nbconvert_exporter": "python",
   "pygments_lexer": "ipython2",
   "version": "2.7.6"
  }
 },
 "nbformat": 4,
 "nbformat_minor": 0
}
