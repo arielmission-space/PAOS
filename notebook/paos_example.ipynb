{
 "cells": [
  {
   "cell_type": "markdown",
   "metadata": {},
   "source": [
    "# PAOS\n",
    "\n",
    "This notebook demonstrates the basic functionality of PAOS.\n",
    "\n",
    "Select the desired example configuration desired below"
   ]
  },
  {
   "cell_type": "code",
   "execution_count": 1,
   "metadata": {},
   "outputs": [],
   "source": [
    "import os, time\n",
    "import numpy as np\n",
    "import matplotlib.pyplot as plt\n",
    "from pathlib import Path\n",
    "\n",
    "import paos"
   ]
  },
  {
   "cell_type": "markdown",
   "metadata": {},
   "source": [
    "## Inputs\n",
    "\n",
    "Define lens file to use"
   ]
  },
  {
   "cell_type": "code",
   "execution_count": 2,
   "metadata": {},
   "outputs": [],
   "source": [
    "OpticalPrescription = 'example.ini'\n",
    "# OpticalPrescription = 'lens_file_TA_Ground.ini'\n",
    "\n",
    "OpticalPrescriptionFile = os.path.join('../lens data', OpticalPrescription)\n",
    "\n",
    "# Parse lens file\n",
    "from paos.core.parseConfig import parse_config\n",
    "pup_diameter, parameters, wavelengths, fields, opt_chains = parse_config(OpticalPrescriptionFile)"
   ]
  },
  {
   "cell_type": "markdown",
   "metadata": {},
   "source": [
    "## Ray tracing\n",
    "Implement a full raytracing. For diagnostic purposes."
   ]
  },
  {
   "cell_type": "code",
   "execution_count": 3,
   "metadata": {
    "collapsed": false,
    "jupyter": {
     "outputs_hidden": false
    }
   },
   "outputs": [
    {
     "data": {
      "text/plain": "['S02 - M1              y:  0.000mm ut: 0.000e+00 rad x:  0.000mm us: 0.000e+00 rad',\n 'S03 - Differential magnification y:  0.000mm ut: 0.000e+00 rad x:  0.000mm us: 0.000e+00 rad',\n 'S04 - IMAGE_PLANE     y:  0.000mm ut: 0.000e+00 rad x:  0.000mm us: 0.000e+00 rad']"
     },
     "execution_count": 3,
     "metadata": {},
     "output_type": "execute_result"
    }
   ],
   "source": [
    "paos.raytrace(fields[0], opt_chains[0], y=-0.0)"
   ]
  },
  {
   "cell_type": "code",
   "execution_count": 4,
   "metadata": {},
   "outputs": [
    {
     "name": "stdout",
     "output_type": "stream",
     "text": [
      "Start POP...\n",
      "POP completed in    0.2s\n"
     ]
    }
   ],
   "source": [
    "start_time = time.time()\n",
    "print('Start POP...')\n",
    "\n",
    "retval = paos.run(pup_diameter, 1.0e-6 * wavelengths[0], parameters['grid_size'], parameters['zoom'], fields[0], opt_chains[0])\n",
    "\n",
    "end_time = time.time()\n",
    "print('POP completed in {:6.1f}s'.format(end_time-start_time))"
   ]
  },
  {
   "cell_type": "raw",
   "metadata": {},
   "source": [
    "# This box is used to inspect a particular surface. Do not remove.\n",
    "item = retval[16]\n",
    "scale = opt_chains[0][15]['ABCDt'].power\n",
    "\n",
    "extent = 3600 * np.rad2deg(np.array(item['extent']) * scale)\n",
    "\n",
    "ima = np.ma.masked_array(data=item['amplitude'] ** 2)\n",
    "im = plt.imshow(ima, extent=extent, origin='lower', cmap='turbo')  #, vmax=1, vmin=0.001)\n",
    "\n",
    "plt.xlim(-1000, 1000)\n",
    "plt.ylim(-1000, 1000)\n",
    "plt.xlabel('arcsec')\n",
    "plt.ylabel('arcsec')\n",
    "plt.grid()\n"
   ]
  },
  {
   "cell_type": "markdown",
   "metadata": {},
   "source": [
    "## Plot results"
   ]
  },
  {
   "cell_type": "code",
   "execution_count": 5,
   "metadata": {},
   "outputs": [],
   "source": [
    "plots_dir = './plots'\n",
    "Path(plots_dir).mkdir(parents=True, exist_ok=True)\n",
    "figname = os.path.join(plots_dir, ''.join([OpticalPrescription, '_', str(1.0e-6 * wavelengths[0]), '.png']))\n",
    "paos.plot_pop(retval, ima_scale='log', ncols=3, figname=figname)#, surface_zoom={23:5})"
   ]
  },
  {
   "cell_type": "code",
   "execution_count": 7,
   "outputs": [
    {
     "data": {
      "text/plain": "(50.0, 60.0, 59.99999949576094)"
     },
     "execution_count": 7,
     "metadata": {},
     "output_type": "execute_result"
    }
   ],
   "source": [
    "retval[3]['ABCDt'].f_eff, retval[3]['ABCDt'].f_eff/(5/6), retval[3]['fratio']"
   ],
   "metadata": {
    "collapsed": false
   }
  },
  {
   "cell_type": "code",
   "execution_count": 12,
   "outputs": [
    {
     "data": {
      "text/plain": "0.625"
     },
     "execution_count": 12,
     "metadata": {},
     "output_type": "execute_result"
    }
   ],
   "source": [
    "0.5 * 1.25"
   ],
   "metadata": {
    "collapsed": false
   }
  },
  {
   "cell_type": "markdown",
   "source": [
    "# Save results\n",
    "\n",
    "This section demonstrates saving your results.\n",
    "The results are saved in .h5 format.\n",
    "\n",
    "The saving routine are very flexible: you can either\n",
    "- save everything in your results (wfo, dx, dx, apertures...)\n",
    "- or just a selection of things that you need (just the wfo, or whatever list of things)"
   ],
   "metadata": {
    "collapsed": false
   }
  },
  {
   "cell_type": "code",
   "execution_count": 7,
   "metadata": {},
   "outputs": [],
   "source": [
    "saving_dir = './data'\n",
    "Path(saving_dir).mkdir(parents=True, exist_ok=True)"
   ]
  },
  {
   "cell_type": "markdown",
   "metadata": {},
   "source": [
    "1) This is how to save your output if you simulated just one POP realisation. "
   ]
  },
  {
   "cell_type": "code",
   "execution_count": 8,
   "metadata": {
    "collapsed": false,
    "jupyter": {
     "outputs_hidden": false
    }
   },
   "outputs": [
    {
     "name": "stderr",
     "output_type": "stream",
     "text": [
      "paos - INFO - saving ./data/Ariel_AIRS-CH1.ini_selection.h5 started...\n",
      "paos - INFO - removing old file\n",
      "paos - INFO - saving ended.\n"
     ]
    }
   ],
   "source": [
    "# HDF5FileName = os.path.join(saving_dir, ''.join([OpticalPrescription, '_everything.h5']))\n",
    "# paos.save_output(retval, HDF5FileName, overwrite=True)\n",
    "\n",
    "HDF5FileName = os.path.join(saving_dir, ''.join([OpticalPrescription, '_selection.h5']))\n",
    "paos.save_output(retval, HDF5FileName, keys_to_keep=['wfo', 'dx'], overwrite=True)"
   ]
  },
  {
   "cell_type": "markdown",
   "metadata": {},
   "source": [
    "2) This is how to save your output if you simulated more than one POP realisation. "
   ]
  },
  {
   "cell_type": "code",
   "execution_count": 9,
   "metadata": {},
   "outputs": [],
   "source": [
    "# Since we just ran the POP at two different wavelengths, \n",
    "# let's use them to unequivocally tag the two simulations.\n",
    "\n",
    "group_tags = list(map(str, wavelengths))"
   ]
  },
  {
   "cell_type": "code",
   "execution_count": 10,
   "metadata": {
    "collapsed": false,
    "jupyter": {
     "outputs_hidden": false
    }
   },
   "outputs": [
    {
     "name": "stderr",
     "output_type": "stream",
     "text": [
      "paos - INFO - Saving ./data/Ariel_AIRS-CH1.ini_selection_cube.h5 started...\n",
      "paos - INFO - Remove old file\n",
      "paos - INFO - Saving ended.\n"
     ]
    }
   ],
   "source": [
    "# HDF5FileName = os.path.join(saving_dir, ''.join([OpticalPrescription, '_everything_cube.h5']))\n",
    "# paos.save_datacube(ret, HDF5FileName, group_tags, overwrite=True)\n",
    "\n",
    "HDF5FileName = os.path.join(saving_dir, ''.join([OpticalPrescription, '_selection_cube.h5']))\n",
    "paos.save_datacube(ret, HDF5FileName, group_tags,\n",
    "                   keys_to_keep=['amplitude', 'dx', 'dy'], overwrite=True)"
   ]
  },
  {
   "cell_type": "code",
   "execution_count": 10,
   "metadata": {},
   "outputs": [],
   "source": []
  }
 ],
 "metadata": {
  "interpreter": {
   "hash": "31f2aee4e71d21fbe5cf8b01ff0e069b9275f58929596ceb00d14d90e3e16cd6"
  },
  "kernelspec": {
   "display_name": "Python 3",
   "language": "python",
   "name": "python3"
  },
  "language_info": {
   "codemirror_mode": {
    "name": "ipython",
    "version": 3
   },
   "file_extension": ".py",
   "mimetype": "text/x-python",
   "name": "python",
   "nbconvert_exporter": "python",
   "pygments_lexer": "ipython3",
   "version": "3.8.5"
  }
 },
 "nbformat": 4,
 "nbformat_minor": 5
}
