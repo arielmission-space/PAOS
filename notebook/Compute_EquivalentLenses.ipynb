{
 "cells": [
  {
   "cell_type": "code",
   "execution_count": 2,
   "metadata": {
    "trusted": true
   },
   "outputs": [],
   "source": [
    "%load_ext autoreload\n",
    "%autoreload 2"
   ]
  },
  {
   "cell_type": "code",
   "execution_count": 3,
   "outputs": [],
   "source": [
    "import numpy as np\n",
    "from paos.util.material import Material\n",
    "from paos.paos_abcd import ABCD"
   ],
   "metadata": {
    "collapsed": false,
    "pycharm": {
     "name": "#%%\n"
    }
   }
  },
  {
   "cell_type": "markdown",
   "metadata": {},
   "source": [
    "FGS LS1, LS2, LS3"
   ]
  },
  {
   "cell_type": "code",
   "execution_count": 27,
   "outputs": [
    {
     "name": "stderr",
     "output_type": "stream",
     "text": [
      "paos - DEBUG - Using default library of optical materials\n",
      "paos - DEBUG - Glass name: BK7 -- T ref: 20.0\n"
     ]
    },
    {
     "name": "stdout",
     "output_type": "stream",
     "text": [
      "FGS LS1 effective focal length = -0.165600\n",
      "FGS LS2 effective focal length = 0.128583\n",
      "FGS LS3 effective focal length = 0.088482\n"
     ]
    }
   ],
   "source": [
    "wl0 = 0.70\n",
    "mat = Material(wl=wl0)\n",
    "nbk70 = mat.nmat('bk7')[1]\n",
    "\n",
    "# Validated using https://www.edmundoptics.com/knowledge-center/tech-tools/focal-length/\n",
    "\n",
    "# FGS LS1 (FGS-1)\n",
    "abcd = ABCD(thickness = 3.0, curvature = -1.0/85.0, n1 = 1.0, n2 = nbk70)\n",
    "abcd = ABCD(thickness = 0.0, curvature =  0.0, n1 = nbk70, n2 = 1.0) * abcd\n",
    "print('FGS LS1 effective focal length = {:.6f}'.format(abcd.f_eff/1000))\n",
    "\n",
    "# FGS LS2 (FGS-VISPHOT)\n",
    "abcd = ABCD(thickness = 3.0, curvature = 1.0/66.0, n1 = 1.0, n2 = nbk70)\n",
    "abcd = ABCD(thickness = 0.0, curvature =  0.0, n1 = nbk70, n2 = 1.0) * abcd\n",
    "print('FGS LS2 effective focal length = {:.6f}'.format(abcd.f_eff/1000))\n",
    "\n",
    "# FGS LS3 (FGS-NIRSPEC)\n",
    "abcd = ABCD(thickness = 3.0, curvature = 1.0/37.2, n1 = 1.0, n2 = nbk70)\n",
    "abcd = ABCD(thickness = 0.0, curvature =  1.0/200.0, n1 = nbk70, n2 = 1.0) * abcd\n",
    "print('FGS LS3 effective focal length = {:.6f}'.format(abcd.f_eff/1000))"
   ],
   "metadata": {
    "collapsed": false,
    "pycharm": {
     "name": "#%%\n"
    }
   }
  },
  {
   "cell_type": "code",
   "execution_count": null,
   "outputs": [],
   "source": [],
   "metadata": {
    "collapsed": false,
    "pycharm": {
     "name": "#%%\n"
    }
   }
  }
 ],
 "metadata": {
  "kernelspec": {
   "display_name": "Python 3",
   "language": "python",
   "name": "python3"
  },
  "language_info": {
   "codemirror_mode": {
    "name": "ipython",
    "version": 3
   },
   "file_extension": ".py",
   "mimetype": "text/x-python",
   "name": "python",
   "nbconvert_exporter": "python",
   "pygments_lexer": "ipython3",
   "version": "3.8.8"
  }
 },
 "nbformat": 4,
 "nbformat_minor": 4
}