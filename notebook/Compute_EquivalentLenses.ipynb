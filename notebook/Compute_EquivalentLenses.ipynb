{
 "cells": [
  {
   "cell_type": "code",
   "execution_count": 1,
   "metadata": {
    "trusted": true
   },
   "outputs": [],
   "source": [
    "%load_ext autoreload\n",
    "%autoreload 2"
   ]
  },
  {
   "cell_type": "code",
   "execution_count": 2,
   "outputs": [],
   "source": [
    "import numpy as np\n",
    "from paos.util.material import Material\n",
    "from paos.classes.abcd import ABCD"
   ],
   "metadata": {
    "collapsed": false,
    "pycharm": {
     "name": "#%%\n"
    }
   }
  },
  {
   "cell_type": "markdown",
   "metadata": {},
   "source": [
    "FGS LS1, LS2, LS3"
   ]
  },
  {
   "cell_type": "code",
   "execution_count": 3,
   "outputs": [
    {
     "name": "stdout",
     "output_type": "stream",
     "text": [
      "FGS LS1 effective focal length = -0.165600\n",
      "FGS LS2 effective focal length = 0.127230\n",
      "FGS LS3 effective focal length = 0.091678\n"
     ]
    }
   ],
   "source": [
    "# Validated using https://www.edmundoptics.com/knowledge-center/tech-tools/focal-length/\n",
    "\n",
    "# FGS LS1 (FGS-1)\n",
    "\n",
    "mat = Material(wl=0.70)\n",
    "nbk70 = mat.nmat('bk7')[1]\n",
    "\n",
    "abcd = ABCD(thickness = 3.0, curvature = -1.0/85.0, n1 = 1.0, n2 = nbk70)\n",
    "abcd = ABCD(thickness = 0.0, curvature =  0.0, n1 = nbk70, n2 = 1.0) * abcd\n",
    "print('FGS LS1 effective focal length = {:.6f}'.format(abcd.f_eff/1000))\n",
    "\n",
    "# FGS LS2 (FGS-VISPHOT)\n",
    "\n",
    "mat = Material(wl=0.55)\n",
    "nbk70 = mat.nmat('bk7')[1]\n",
    "\n",
    "abcd = ABCD(thickness = 3.0, curvature = 1.0/66.0, n1 = 1.0, n2 = nbk70)\n",
    "abcd = ABCD(thickness = 0.0, curvature =  0.0, n1 = nbk70, n2 = 1.0) * abcd\n",
    "print('FGS LS2 effective focal length = {:.6f}'.format(abcd.f_eff/1000))\n",
    "\n",
    "# FGS LS3 (FGS-NIRSPEC)\n",
    "\n",
    "mat = Material(wl=1.95)\n",
    "nbk70 = mat.nmat('bk7')[1]\n",
    "\n",
    "abcd = ABCD(thickness = 3.0, curvature = 1.0/37.2, n1 = 1.0, n2 = nbk70)\n",
    "abcd = ABCD(thickness = 0.0, curvature =  1.0/200.0, n1 = nbk70, n2 = 1.0) * abcd\n",
    "print('FGS LS3 effective focal length = {:.6f}'.format(abcd.f_eff/1000))"
   ],
   "metadata": {
    "collapsed": false,
    "pycharm": {
     "name": "#%%\n"
    }
   }
  },
  {
   "cell_type": "code",
   "execution_count": 3,
   "outputs": [],
   "source": [],
   "metadata": {
    "collapsed": false,
    "pycharm": {
     "name": "#%%\n"
    }
   }
  }
 ],
 "metadata": {
  "kernelspec": {
   "display_name": "Python 3",
   "language": "python",
   "name": "python3"
  },
  "language_info": {
   "codemirror_mode": {
    "name": "ipython",
    "version": 3
   },
   "file_extension": ".py",
   "mimetype": "text/x-python",
   "name": "python",
   "nbconvert_exporter": "python",
   "pygments_lexer": "ipython3",
   "version": "3.8.8"
  }
 },
 "nbformat": 4,
 "nbformat_minor": 4
}