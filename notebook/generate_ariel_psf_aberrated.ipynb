{
 "cells": [
  {
   "cell_type": "code",
   "execution_count": 4,
   "outputs": [
    {
     "name": "stdout",
     "output_type": "stream",
     "text": [
      "paos - INFO - folder ../../../Paos-simulations/ExoSim2.0/2022-05-31/AIRS-CH1 not found in directory tree. Creating..\r\n",
      "paos - INFO - log file name: ../../../Paos-simulations/ExoSim2.0/2022-05-31/AIRS-CH1/test.log\r\n",
      "paos - INFO - code version 0.0.4\r\n",
      "paos - INFO - Parse lens file\r\n",
      "paos - INFO - Set up the POP\r\n",
      "paos - INFO - Run the POP\r\n",
      "paos - INFO - Start POP in parallel...\r\n",
      "100%|███████████████████████████████████████████| 22/22 [00:30<00:00,  1.37s/it]\r\n",
      "paos - INFO - POP completed in   33.3s\r\n",
      "paos - INFO - Save POP simulation output .h5 file to ../../../Paos-simulations/ExoSim2.0/2022-05-31/AIRS-CH1/PAOS_TEL_COM_CH1_v01.h5\r\n",
      "paos - INFO - Saving ../../../Paos-simulations/ExoSim2.0/2022-05-31/AIRS-CH1/PAOS_TEL_COM_CH1_v01.h5 started...\r\n",
      "paos - INFO - Remove old file\r\n",
      "paos - INFO - Saving ended.\r\n",
      "paos - INFO - Save POP simulation output plot\r\n",
      "paos - INFO - folder ../../../Paos-simulations/ExoSim2.0/2022-05-31/AIRS-CH1/plots not found in directory tree. Creating..\r\n",
      "100%|███████████████████████████████████████████| 22/22 [00:06<00:00,  3.39it/s]\r\n",
      "paos - INFO - Plotting completed in    7.3s\r\n",
      "paos - INFO - Paos simulation completed.\r\n"
     ]
    }
   ],
   "source": [
    "!paos -c ../../../Paos-simulations/ExoSim2.0/2022-05-31/Ariel_AIRS-CH1.ini -o ../../../Paos-simulations/ExoSim2.0/2022-05-31/AIRS-CH1/PAOS_TEL_COM_CH1_v01.h5 -p -wlg 3.9,7.8,30 -l -lo -n 2 -wfe '../wfe data/wfe_realization_SN20210914.csv,0'"
   ],
   "metadata": {
    "collapsed": false,
    "pycharm": {
     "name": "#%%\n"
    }
   }
  },
  {
   "cell_type": "code",
   "execution_count": 5,
   "outputs": [
    {
     "name": "stdout",
     "output_type": "stream",
     "text": [
      "paos - INFO - folder ../../../Paos-simulations/ExoSim2.0/2022-05-31/AIRS-CH0 not found in directory tree. Creating..\r\n",
      "paos - INFO - log file name: ../../../Paos-simulations/ExoSim2.0/2022-05-31/AIRS-CH0/test.log\r\n",
      "paos - INFO - code version 0.0.4\r\n",
      "paos - INFO - Parse lens file\r\n",
      "paos - INFO - Set up the POP\r\n",
      "paos - INFO - Run the POP\r\n",
      "paos - INFO - Start POP in parallel...\r\n",
      "100%|███████████████████████████████████████████| 70/70 [01:47<00:00,  1.53s/it]\r\n",
      "paos - INFO - POP completed in  111.2s\r\n",
      "paos - INFO - Save POP simulation output .h5 file to ../../../Paos-simulations/ExoSim2.0/2022-05-31/AIRS-CH0/PAOS_TEL_COM_CH0_v01.h5\r\n",
      "paos - INFO - Saving ../../../Paos-simulations/ExoSim2.0/2022-05-31/AIRS-CH0/PAOS_TEL_COM_CH0_v01.h5 started...\r\n",
      "paos - INFO - Remove old file\r\n",
      "paos - INFO - Saving ended.\r\n",
      "paos - INFO - Save POP simulation output plot\r\n",
      "paos - INFO - folder ../../../Paos-simulations/ExoSim2.0/2022-05-31/AIRS-CH0/plots not found in directory tree. Creating..\r\n",
      "100%|███████████████████████████████████████████| 70/70 [00:21<00:00,  3.28it/s]\r\n",
      "paos - INFO - Plotting completed in   22.2s\r\n",
      "paos - INFO - Paos simulation completed.\r\n"
     ]
    }
   ],
   "source": [
    "!paos -c ../../../Paos-simulations/ExoSim2.0/2022-05-31/Ariel_AIRS-CH0.ini -o ../../../Paos-simulations/ExoSim2.0/2022-05-31/AIRS-CH0/PAOS_TEL_COM_CH0_v01.h5 -p -wlg 1.95,3.9,100 -l -lo -n 2 -wfe '../wfe data/wfe_realization_SN20210914.csv,0'"
   ],
   "metadata": {
    "collapsed": false,
    "pycharm": {
     "name": "#%%\n"
    }
   }
  },
  {
   "cell_type": "code",
   "execution_count": 6,
   "outputs": [
    {
     "name": "stdout",
     "output_type": "stream",
     "text": [
      "paos - INFO - folder ../../../Paos-simulations/ExoSim2.0/2022-05-31/FGS-VISPHOT not found in directory tree. Creating..\r\n",
      "paos - INFO - log file name: ../../../Paos-simulations/ExoSim2.0/2022-05-31/FGS-VISPHOT/test.log\r\n",
      "paos - INFO - code version 0.0.4\r\n",
      "paos - INFO - Parse lens file\r\n",
      "paos - INFO - Set up the POP\r\n",
      "paos - INFO - Run the POP\r\n",
      "paos - INFO - Start POP using a single thread...\r\n",
      "100%|█████████████████████████████████████████████| 1/1 [00:03<00:00,  3.12s/it]\r\n",
      "paos - INFO - POP completed in    3.1s\r\n",
      "paos - INFO - Save POP simulation output .h5 file to ../../../Paos-simulations/ExoSim2.0/2022-05-31/FGS-VISPHOT/PAOS_TEL_COM_VISPHOT_v01.h5\r\n",
      "paos - INFO - Saving ../../../Paos-simulations/ExoSim2.0/2022-05-31/FGS-VISPHOT/PAOS_TEL_COM_VISPHOT_v01.h5 started...\r\n",
      "paos - INFO - Remove old file\r\n",
      "paos - INFO - Saving ended.\r\n",
      "paos - INFO - Save POP simulation output plot\r\n",
      "paos - INFO - folder ../../../Paos-simulations/ExoSim2.0/2022-05-31/FGS-VISPHOT/plots not found in directory tree. Creating..\r\n",
      "100%|█████████████████████████████████████████████| 1/1 [00:00<00:00,  1.33it/s]\r\n",
      "paos - INFO - Plotting completed in    0.8s\r\n",
      "paos - INFO - Paos simulation completed.\r\n"
     ]
    }
   ],
   "source": [
    "!paos -c ../../../Paos-simulations/ExoSim2.0/2022-05-31/Ariel_FGS-VISPhot.ini -o ../../../Paos-simulations/ExoSim2.0/2022-05-31/FGS-VISPHOT/PAOS_TEL_COM_VISPHOT_v01.h5 -p -lo -l -wl 0.55 -wfe '../wfe data/wfe_realization_SN20210914.csv,0'"
   ],
   "metadata": {
    "collapsed": false,
    "pycharm": {
     "name": "#%%\n"
    }
   }
  },
  {
   "cell_type": "code",
   "execution_count": 7,
   "outputs": [
    {
     "name": "stdout",
     "output_type": "stream",
     "text": [
      "paos - INFO - folder ../../../Paos-simulations/ExoSim2.0/2022-05-31/FGS-FGS1 not found in directory tree. Creating..\r\n",
      "paos - INFO - log file name: ../../../Paos-simulations/ExoSim2.0/2022-05-31/FGS-FGS1/test.log\r\n",
      "paos - INFO - code version 0.0.4\r\n",
      "paos - INFO - Parse lens file\r\n",
      "paos - INFO - Set up the POP\r\n",
      "paos - INFO - Run the POP\r\n",
      "paos - INFO - Start POP using a single thread...\r\n",
      "100%|█████████████████████████████████████████████| 1/1 [00:03<00:00,  3.42s/it]\r\n",
      "paos - INFO - POP completed in    3.4s\r\n",
      "paos - INFO - Save POP simulation output .h5 file to ../../../Paos-simulations/ExoSim2.0/2022-05-31/FGS-FGS1/PAOS_TEL_COM_FGS1_v01.h5\r\n",
      "paos - INFO - Saving ../../../Paos-simulations/ExoSim2.0/2022-05-31/FGS-FGS1/PAOS_TEL_COM_FGS1_v01.h5 started...\r\n",
      "paos - INFO - Remove old file\r\n",
      "paos - INFO - Saving ended.\r\n",
      "paos - INFO - Save POP simulation output plot\r\n",
      "paos - INFO - folder ../../../Paos-simulations/ExoSim2.0/2022-05-31/FGS-FGS1/plots not found in directory tree. Creating..\r\n",
      "100%|█████████████████████████████████████████████| 1/1 [00:00<00:00,  1.26it/s]\r\n",
      "paos - INFO - Plotting completed in    0.8s\r\n",
      "paos - INFO - Paos simulation completed.\r\n"
     ]
    }
   ],
   "source": [
    "!paos -c ../../../Paos-simulations/ExoSim2.0/2022-05-31/Ariel_FGS-FGS1.ini -o ../../../Paos-simulations/ExoSim2.0/2022-05-31/FGS-FGS1/PAOS_TEL_COM_FGS1_v01.h5 -p -lo -l -wl 0.705 -wfe '../wfe data/wfe_realization_SN20210914.csv,0'"
   ],
   "metadata": {
    "collapsed": false,
    "pycharm": {
     "name": "#%%\n"
    }
   }
  },
  {
   "cell_type": "code",
   "execution_count": 8,
   "outputs": [
    {
     "name": "stdout",
     "output_type": "stream",
     "text": [
      "paos - INFO - folder ../../../Paos-simulations/ExoSim2.0/2022-05-31/FGS-FGS2 not found in directory tree. Creating..\r\n",
      "paos - INFO - log file name: ../../../Paos-simulations/ExoSim2.0/2022-05-31/FGS-FGS2/test.log\r\n",
      "paos - INFO - code version 0.0.4\r\n",
      "paos - DEBUG - Set up logger\r\n",
      "paos - DEBUG - --------------------------------------------------------------------------------------------\r\n",
      "paos - DEBUG - Set pipeline defaults\r\n",
      "paos - DEBUG - passvalue keys are ['conf', 'output', 'light_output', 'wavelengths', 'wl_grid', 'wfe', 'store_keys', 'n_jobs', 'plot', 'debug', 'return']\r\n",
      "paos - DEBUG - --------------------------------------------------------------------------------------------\r\n",
      "paos - INFO - Parse lens file\r\n",
      "paos - DEBUG - Using default library of optical materials\r\n",
      "paos - DEBUG - Glass name: BK7 -- T ref: 20.0\r\n",
      "paos - DEBUG - Using default library of optical materials\r\n",
      "paos - DEBUG - Glass name: BK7 -- T ref: 20.0\r\n",
      "paos - DEBUG - Using default library of optical materials\r\n",
      "paos - DEBUG - Glass name: BK7 -- T ref: 20.0\r\n",
      "paos - DEBUG - --------------------------------------------------------------------------------------------\r\n",
      "paos - DEBUG - Perform a diagnostic ray tracing\r\n",
      "paos - DEBUG - S02 - LOS tilt        y:  0.000mm ut: 1.745e-03 rad x:  0.000mm us: 0.000e+00 rad\r\n",
      "paos - DEBUG - S03 - Move to M1      y:500.000mm ut: 1.745e-03 rad x:  0.000mm us: 0.000e+00 rad\r\n",
      "paos - DEBUG - S04 - M1              y: 49.136mm ut: 4.294e-01 rad x:  0.000mm us: 0.000e+00 rad\r\n",
      "paos - DEBUG - S05 - M2              y: 24.559mm ut:-1.846e-02 rad x:  0.000mm us: 0.000e+00 rad\r\n",
      "paos - DEBUG - S06 - FOCUS           y: 19.855mm ut:-1.846e-02 rad x:  0.000mm us: 0.000e+00 rad\r\n",
      "paos - DEBUG - S07 - M3              y: 19.855mm ut: 9.637e-02 rad x:  0.000mm us: 0.000e+00 rad\r\n",
      "paos - DEBUG - S08 - Ray Centering   y: -0.018mm ut:-6.050e-05 rad x:  0.000mm us: 0.000e+00 rad\r\n",
      "paos - DEBUG - S09 - Move to M4      y: -0.006mm ut:-6.050e-05 rad x:  0.000mm us: 0.000e+00 rad\r\n",
      "paos - DEBUG - S10 - x tilt - M4     y: -0.009mm ut:-1.124e+00 rad x:  0.000mm us: 0.000e+00 rad\r\n",
      "paos - DEBUG - S11 - M4              y: -0.009mm ut: 1.124e+00 rad x:  0.000mm us: 0.000e+00 rad\r\n",
      "paos - DEBUG - S12 - x tilt - M4     y:  0.000mm ut: 6.050e-05 rad x:  0.000mm us: 0.000e+00 rad\r\n",
      "paos - DEBUG - S13 - Z1              y:  0.000mm ut: 6.050e-05 rad x:  0.000mm us: 0.000e+00 rad\r\n",
      "paos - DEBUG - S14 - exit pupil      y:  0.064mm ut: 6.050e-05 rad x:  0.000mm us: 0.000e+00 rad\r\n",
      "paos - DEBUG - S15 - FGS M1          y:  0.004mm ut: 8.885e-04 rad x:  0.000mm us: 0.000e+00 rad\r\n",
      "paos - DEBUG - S16 - FGS FOCUS       y: -0.013mm ut: 8.885e-04 rad x:  0.000mm us: 0.000e+00 rad\r\n",
      "paos - DEBUG - S17 - FGS M2          y: -0.023mm ut:-1.150e-04 rad x:  0.000mm us: 0.000e+00 rad\r\n",
      "paos - DEBUG - S18 - FGS D3 in       y: -0.023mm ut:-7.612e-05 rad x:  0.000mm us: 0.000e+00 rad\r\n",
      "paos - DEBUG - S19 - FGS D3 out      y: -0.024mm ut:-1.150e-04 rad x:  0.000mm us: 0.000e+00 rad\r\n",
      "paos - DEBUG - S20 - FGS D5 in       y: -0.024mm ut: 1.150e-04 rad x:  0.000mm us: 0.000e+00 rad\r\n",
      "paos - DEBUG - S21 - FGS D5 out      y: -0.025mm ut: 1.150e-04 rad x:  0.000mm us: 0.000e+00 rad\r\n",
      "paos - DEBUG - S22 - FGS M4          y: -0.028mm ut:-1.150e-04 rad x:  0.000mm us: 0.000e+00 rad\r\n",
      "paos - DEBUG - S23 - FGS M5          y: -0.030mm ut: 1.150e-04 rad x:  0.000mm us: 0.000e+00 rad\r\n",
      "paos - DEBUG - S24 - IMAGE_PLANE     y: -0.030mm ut: 1.150e-04 rad x:  0.000mm us: 0.000e+00 rad\r\n",
      "paos - DEBUG - --------------------------------------------------------------------------------------------\r\n",
      "paos - INFO - Set up the POP\r\n",
      "paos - DEBUG - Using user provided wavelengths: 0.955\r\n",
      "paos - DEBUG - Wavelengths: [0.955]\r\n",
      "paos - DEBUG - Set up the optical chain for the POP run\r\n",
      "paos - DEBUG - Wfe realization file: ../wfe data/wfe_realization_SN20210914.csv; column: 0\r\n",
      "paos - DEBUG - Wfe coefficients: [ 0.00e+00  0.00e+00  0.00e+00  7.72e-08  7.00e-08 -3.60e-09 -7.60e-09\r\n",
      " -6.20e-09  1.36e-08  4.30e-08  1.34e-08  2.20e-09  7.80e-09  7.00e-09\r\n",
      "  3.66e-08 -4.64e-08  2.60e-09  4.00e-09 -1.52e-08 -1.46e-08  1.34e-08\r\n",
      "  1.50e-08  1.90e-08  1.48e-08 -1.10e-08  1.70e-08 -1.12e-08 -8.00e-10\r\n",
      " -7.40e-09  5.80e-09  7.60e-09  2.40e-09 -1.22e-08  8.00e-10 -1.54e-08\r\n",
      "  1.40e-09]\r\n",
      "paos - DEBUG - --------------------------------------------------------------------------------------------\r\n",
      "paos - INFO - Run the POP\r\n",
      "paos - INFO - Start POP using a single thread...\r\n",
      "  0%|                                                     | 0/1 [00:00<?, ?it/s]paos - TRACE - Surface: LOS tilt\r\n",
      "paos - TRACE - Apply coordinate break.\r\n",
      "paos - TRACE - n1n2: 1.0000\r\n",
      "paos - DEBUG - F num: inf, distance to focus: 0.000000\r\n",
      "paos - TRACE - Surface: Move to M1\r\n",
      "paos - TRACE - Apply coordinate break.\r\n",
      "paos - TRACE - n1n2: 1.0000\r\n",
      "paos - DEBUG - F num: inf, distance to focus: 0.000000\r\n",
      "paos - TRACE - Surface: M1\r\n",
      "paos - TRACE - Apply aperture\r\n",
      "paos - TRACE - Apply stop\r\n",
      "paos - TRACE - n1n2: -1.0000\r\n",
      "paos - TRACE - Apply lens\r\n",
      "paos - TRACE - Apply propagation thickness: T: 1.0500\r\n",
      "paos - DEBUG - F num: inf, distance to focus: 0.109716\r\n",
      "paos - TRACE - Surface: M2\r\n",
      "paos - TRACE - Apply aperture\r\n",
      "paos - TRACE - n1n2: -1.0000\r\n",
      "paos - TRACE - Apply lens\r\n",
      "paos - TRACE - Apply propagation thickness: T: 1.3312\r\n",
      "paos - DEBUG - F num: 1.054287, distance to focus: 0.000000\r\n",
      "paos - TRACE - Surface: FOCUS\r\n",
      "paos - TRACE - n1n2: 1.0000\r\n",
      "paos - TRACE - Apply propagation thickness: T: 0.2548\r\n",
      "paos - DEBUG - F num: 12.792293, distance to focus: -0.254848\r\n",
      "paos - TRACE - Surface: M3\r\n",
      "paos - TRACE - Apply aperture\r\n",
      "paos - TRACE - n1n2: -1.0000\r\n",
      "paos - TRACE - Apply lens\r\n",
      "paos - DEBUG - F num: 12.792293, distance to focus: -0.317152\r\n",
      "paos - TRACE - Surface: Ray Centering\r\n",
      "paos - TRACE - Apply coordinate break.\r\n",
      "paos - TRACE - n1n2: 1.0000\r\n",
      "paos - DEBUG - F num: 15.919686, distance to focus: -0.317152\r\n",
      "paos - TRACE - Surface: Move to M4\r\n",
      "paos - TRACE - n1n2: 1.0000\r\n",
      "paos - TRACE - Apply propagation thickness: T: 0.2016\r\n",
      "paos - DEBUG - F num: 15.919686, distance to focus: -0.518798\r\n",
      "paos - TRACE - Surface: x tilt - M4\r\n",
      "paos - TRACE - Apply coordinate break.\r\n",
      "paos - TRACE - n1n2: 1.0000\r\n",
      "paos - DEBUG - F num: 15.919686, distance to focus: -0.518798\r\n",
      "paos - TRACE - Surface: M4\r\n",
      "paos - TRACE - Apply aperture\r\n",
      "paos - TRACE - n1n2: -1.0000\r\n",
      "paos - DEBUG - F num: 15.919686, distance to focus: -0.518798\r\n",
      "paos - TRACE - Surface: x tilt - M4\r\n",
      "paos - TRACE - Apply coordinate break.\r\n",
      "paos - TRACE - n1n2: 1.0000\r\n",
      "paos - TRACE - Apply propagation thickness: T: 0.1000\r\n",
      "paos - DEBUG - F num: 15.919686, distance to focus: -0.618798\r\n",
      "paos - TRACE - Surface: Z1\r\n",
      "paos - TRACE - n1n2: 1.0000\r\n",
      "paos - DEBUG - F num: 15.919686, distance to focus: -0.618798\r\n",
      "paos - TRACE - Surface: exit pupil\r\n",
      "paos - TRACE - n1n2: 1.0000\r\n",
      "paos - TRACE - Apply propagation thickness: T: 1.0500\r\n",
      "paos - DEBUG - F num: 15.919686, distance to focus: -1.668798\r\n",
      "paos - TRACE - Surface: FGS M1\r\n",
      "paos - TRACE - Apply aperture\r\n",
      "paos - TRACE - n1n2: -1.0000\r\n",
      "paos - TRACE - Apply lens\r\n",
      "paos - TRACE - Apply propagation thickness: T: 0.0670\r\n",
      "paos - DEBUG - F num: 15.919686, distance to focus: 0.000009\r\n",
      "paos - TRACE - Surface: FGS FOCUS\r\n",
      "paos - TRACE - n1n2: 1.0000\r\n",
      "paos - TRACE - Apply propagation thickness: T: 0.0197\r\n",
      "paos - DEBUG - F num: 3.363452, distance to focus: -0.019644\r\n",
      "paos - TRACE - Surface: FGS M2\r\n",
      "paos - TRACE - Apply aperture\r\n",
      "paos - TRACE - n1n2: -1.0000\r\n",
      "paos - TRACE - Apply lens\r\n",
      "paos - TRACE - Apply propagation thickness: T: 0.0798\r\n",
      "paos - DEBUG - F num: 3.363452, distance to focus: 0.066842\r\n",
      "paos - TRACE - Surface: FGS D3 in\r\n",
      "paos - TRACE - n1n2: 0.6621\r\n",
      "paos - TRACE - Apply medium change\r\n",
      "paos - TRACE - Apply propagation thickness: T: 0.0020\r\n",
      "paos - DEBUG - F num: 25.104106, distance to focus: 0.098957\r\n",
      "paos - TRACE - Surface: FGS D3 out\r\n",
      "paos - TRACE - n1n2: 1.5104\r\n",
      "paos - TRACE - Apply medium change\r\n",
      "paos - TRACE - Apply propagation thickness: T: 0.0107\r\n",
      "paos - DEBUG - F num: 37.916951, distance to focus: 0.054818\r\n",
      "paos - TRACE - Surface: FGS D5 in\r\n",
      "paos - TRACE - n1n2: -1.0000\r\n",
      "paos - DEBUG - F num: 25.104106, distance to focus: 0.054818\r\n",
      "paos - TRACE - Surface: FGS D5 out\r\n",
      "paos - TRACE - n1n2: 1.0000\r\n",
      "paos - TRACE - Apply propagation thickness: T: 0.0103\r\n",
      "paos - DEBUG - F num: 25.104106, distance to focus: 0.044568\r\n",
      "paos - TRACE - Surface: FGS M4\r\n",
      "paos - TRACE - n1n2: -1.0000\r\n",
      "paos - TRACE - Apply propagation thickness: T: 0.0290\r\n",
      "paos - DEBUG - F num: 25.104106, distance to focus: 0.015568\r\n",
      "paos - TRACE - Surface: FGS M5\r\n",
      "paos - TRACE - n1n2: -1.0000\r\n",
      "paos - TRACE - Apply propagation thickness: T: 0.0156\r\n",
      "paos - DEBUG - F num: 25.104106, distance to focus: 0.000004\r\n",
      "paos - TRACE - Surface: IMAGE_PLANE\r\n",
      "paos - TRACE - n1n2: 1.0000\r\n",
      "paos - DEBUG - F num: 25.104106, distance to focus: 0.000004\r\n",
      "paos - TRACE - Save optical surface to output dict\r\n",
      "100%|█████████████████████████████████████████████| 1/1 [00:02<00:00,  2.07s/it]\r\n",
      "paos - INFO - POP completed in    2.1s\r\n",
      "paos - DEBUG - --------------------------------------------------------------------------------------------\r\n",
      "paos - INFO - Save POP simulation output .h5 file to ../../../Paos-simulations/ExoSim2.0/2022-05-31/FGS-FGS2/PAOS_TEL_COM_FGS2_v01.h5\r\n",
      "paos - DEBUG - group tags: ['0.955']\r\n",
      "paos - DEBUG - Store keys: ['amplitude', 'dx', 'dy', 'wl']\r\n",
      "paos - INFO - Saving ../../../Paos-simulations/ExoSim2.0/2022-05-31/FGS-FGS2/PAOS_TEL_COM_FGS2_v01.h5 started...\r\n",
      "paos - INFO - Remove old file\r\n",
      "paos - TRACE - saving group <HDF5 group \"/0.955\" (0 members)>\r\n",
      "paos - TRACE - saving S24\r\n",
      "paos - INFO - Saving ended.\r\n",
      "paos - DEBUG - --------------------------------------------------------------------------------------------\r\n",
      "paos - INFO - Save POP simulation output plot\r\n",
      "paos - INFO - folder ../../../Paos-simulations/ExoSim2.0/2022-05-31/FGS-FGS2/plots not found in directory tree. Creating..\r\n",
      "paos - DEBUG - fig base name: ../../../Paos-simulations/ExoSim2.0/2022-05-31/FGS-FGS2/plots/Ariel_FGS-FGS2_pop_plot\r\n",
      "  0%|                                                     | 0/1 [00:00<?, ?it/s]paos - TRACE - plotting S24\r\n",
      "100%|█████████████████████████████████████████████| 1/1 [00:00<00:00,  1.57it/s]\r\n",
      "paos - INFO - Plotting completed in    0.6s\r\n",
      "paos - DEBUG - Not returning output dict\r\n",
      "paos - INFO - Paos simulation completed.\r\n"
     ]
    }
   ],
   "source": [
    "!paos -c ../../../Paos-simulations/ExoSim2.0/2022-05-31/Ariel_FGS-FGS2.ini -o ../../../Paos-simulations/ExoSim2.0/2022-05-31/FGS-FGS2/PAOS_TEL_COM_FGS2_v01.h5 -p -lo -l -wl 0.955 -wfe '../wfe data/wfe_realization_SN20210914.csv,0' -d"
   ],
   "metadata": {
    "collapsed": false,
    "pycharm": {
     "name": "#%%\n"
    }
   }
  },
  {
   "cell_type": "code",
   "execution_count": null,
   "outputs": [],
   "source": [],
   "metadata": {
    "collapsed": false,
    "pycharm": {
     "name": "#%%\n"
    }
   }
  }
 ],
 "metadata": {
  "kernelspec": {
   "display_name": "Python 3",
   "language": "python",
   "name": "python3"
  },
  "language_info": {
   "codemirror_mode": {
    "name": "ipython",
    "version": 2
   },
   "file_extension": ".py",
   "mimetype": "text/x-python",
   "name": "python",
   "nbconvert_exporter": "python",
   "pygments_lexer": "ipython2",
   "version": "2.7.6"
  }
 },
 "nbformat": 4,
 "nbformat_minor": 0
}