{
 "cells": [
  {
   "cell_type": "code",
   "execution_count": 1,
   "metadata": {},
   "outputs": [],
   "source": [
    "import numpy as np\n",
    "from matplotlib import pyplot as plt\n",
    "import os, sys, time\n",
    "\n",
    "# Add to PYTHONPATH the path to local libraries\n",
    "paospath = \"~/git/PAOS\"\n",
    "if not os.path.expanduser(paospath) in sys.path:\n",
    "    sys.path.append( os.path.expanduser(paospath) )\n",
    "\n",
    "import paos"
   ]
  },
  {
   "cell_type": "code",
   "execution_count": 2,
   "metadata": {},
   "outputs": [],
   "source": [
    "CAF2 = {'source': 'Handbook of Optics Vol. II',\n",
    "        'Tref': 20.0 }\n",
    "CAF2['sellmeier'] = {\n",
    "    'K1': 5.67588800E-001,\n",
    "    'L1': 2.52643000E-003,\n",
    "    'K2': 4.71091400E-001,\n",
    "    'L2': 1.00783330E-002,\n",
    "    'K3': 3.84847230E+000,\n",
    "    'L3': 1.20055600E+003\n",
    "}\n",
    "CAF2['Tmodel'] = {\n",
    "    'D0': -2.6600E-005\n",
    "}\n",
    "\n",
    "SAPPHIRE = {'source': 'The Infrared & Electro-Optical Systems Handbook V. III',\n",
    "            'Tref': 20.0}\n",
    "SAPPHIRE['sellmeier'] = {\n",
    "    'K1': 1.023798000E+00,\n",
    "    'L1': 3.775880000E-03,\n",
    "    'K2': 1.058264000E+00,\n",
    "    'L2': 1.225440000E-02,\n",
    "    'K3': 5.280792000E+00,\n",
    "    'L3': 3.213616000E+02\n",
    "}\n",
    "SAPPHIRE['Tmodel'] = {\n",
    "    'D0': 1.80000000E-05\n",
    "}\n"
   ]
  },
  {
   "cell_type": "code",
   "execution_count": 3,
   "metadata": {},
   "outputs": [],
   "source": [
    "def sellmeier(wl, par):\n",
    "    \"\"\"\n",
    "    Implements the Sellmeier 1 equation to estimate the glass\n",
    "    index of refraction relative to air at the glass reference temperature, \n",
    "    Tref = 20oC, and pressure, Pref=1atm.\n",
    "    \n",
    "    Parameters\n",
    "    ----------\n",
    "    wl: scalar or array\n",
    "        wavelength in microns\n",
    "    par: dict\n",
    "        dictionary containing the 'K1', 'L1', 'K2', 'L2', 'K3', 'L3'\n",
    "        parameters of the Sellmeier 1 model\n",
    "    \n",
    "    Returns\n",
    "    -------\n",
    "    out: the refractive index\n",
    "    \"\"\"\n",
    "    wl2 = wl**2\n",
    "    n2_1  = par['K1']*wl2 / (wl2 - par['L1'])\n",
    "    n2_1 += par['K2']*wl2 / (wl2 - par['L2'])\n",
    "    n2_1 += par['K3']*wl2 / (wl2 - par['L3'])\n",
    "    \n",
    "    return np.sqrt(n2_1 + 1.0)\n",
    "    \n",
    "def nT(n, D0, delta_T):\n",
    "    \"\"\"\n",
    "    Estimate the change in the glass absolute index of refraction with temperature as\n",
    "        n(delta_T) = (n**2-1)/(2*n) * D0 * delta_T + n\n",
    "     \n",
    "    Parameters\n",
    "    ----------\n",
    "    n: scalar or array \n",
    "        relative index at the reference temperature of the glass\n",
    "    D0: scalar\n",
    "        model parameter\n",
    "    delta_T: scalar\n",
    "        change in temperature relative to the reference temperature of the glass.\n",
    "        It is positive ig the temperature is grater than the reference temperature\n",
    "        \n",
    "    Returns\n",
    "    -------\n",
    "    out: scalar or array (same shape as n)\n",
    "        the scaled relative index\n",
    "    \"\"\"\n",
    "    dnabs = (n**2-1.0)/(2.0*n)*D0*delta_T\n",
    "    \n",
    "    return n + dnabs\n",
    "\n",
    "def nair(wl, T, P = 1):\n",
    "    \"\"\"\n",
    "    Estimate the air index of refration at wavelenth wl, temperature T, and relative pressure P.\n",
    "    \"\"\"\n",
    "    wl2 = wl*wl\n",
    "    nref = 1.0 + 1.0e-8*(6432.8 + 2949810*wl2/(146*wl2-1) + 25540*wl2/(41*wl2-1))\n",
    "    nair = 1 + (nref-1)*P/(1.0 + 3.4785e-3 * (T-15))\n",
    "    return nair"
   ]
  },
  {
   "cell_type": "code",
   "execution_count": 4,
   "metadata": {},
   "outputs": [],
   "source": [
    "Tambient = -218.0\n",
    "\n",
    "wl = np.linspace(1.8, 8.0, 1024)\n",
    "\n",
    "ncaf_abs = sellmeier(wl, CAF2['sellmeier'])*nair(wl, CAF2['Tref'])\n",
    "ncaf = nT(ncaf_abs, CAF2['Tmodel']['D0'], Tambient-CAF2['Tref'])\n",
    "nsap_abs = sellmeier(wl, SAPPHIRE['sellmeier'])*nair(wl, SAPPHIRE['Tref'])\n",
    "nsap = nT(nsap_abs, SAPPHIRE['Tmodel']['D0'], Tambient-SAPPHIRE['Tref'])"
   ]
  },
  {
   "cell_type": "code",
   "execution_count": 5,
   "metadata": {},
   "outputs": [
    {
     "data": {
      "image/png": "[encoded data removed]",
      "text/plain": [
       "<Figure size 720x360 with 2 Axes>"
      ]
     },
     "metadata": {
      "needs_background": "light"
     },
     "output_type": "display_data"
    }
   ],
   "source": [
    "fig, (ax0, ax1) = plt.subplots(nrows=1, ncols=2, figsize=(10,5))\n",
    "ax0.plot(wl, ncaf_abs, 'r--', label='T$_{ref}$')\n",
    "ax0.plot(wl, ncaf, 'r', label='T$_{oper}$')\n",
    "ax0.set_title('CaF$_2$')\n",
    "\n",
    "ax1.plot(wl, nsap_abs, 'b--', label='T$_{ref}$')\n",
    "ax1.plot(wl, nsap, 'b', label='T$_{oper}$')\n",
    "ax1.set_title('Sapphire')\n",
    "for ax in (ax0, ax1):\n",
    "    ax.legend()\n",
    "    ax.set_xlabel('Wavelength [micron]')\n",
    "    ax.set_ylabel('Relative index')\n",
    "    ax.grid()"
   ]
  },
  {
   "cell_type": "markdown",
   "metadata": {},
   "source": [
    "Airs CH0"
   ]
  },
  {
   "cell_type": "code",
   "execution_count": 6,
   "metadata": {},
   "outputs": [
    {
     "name": "stdout",
     "output_type": "stream",
     "text": [
      "                power|         M| Thickness|     n1/n2\n",
      "Tangential  -0.000000|     1.514|  0.273947|      1.00\n",
      "Sagittal    -0.000000|     1.000|  0.011909|      1.00\n",
      "---------------------\n",
      "Lens units are meters\n"
     ]
    }
   ],
   "source": [
    "# Prism \n",
    "wl0, wl1 = 1.75, 3.9\n",
    "wlc = 0.5*(wl0+wl1)\n",
    "idx = np.argmin(np.abs(wl-wl0))\n",
    "ncaf0 = ncaf[idx]\n",
    "nsap0 = nsap[idx]\n",
    "\n",
    "theta_1 = np.deg2rad(72.1)\n",
    "theta_2 = np.deg2rad(-41.9)\n",
    "theta_3 = np.deg2rad(-37.6)\n",
    "theta_4 = np.deg2rad(60.3)\n",
    "thickness = 17.0e-3 # m\n",
    "\n",
    "A = np.cos(theta_2)*np.cos(theta_4)/(np.cos(theta_1)*np.cos(theta_3))\n",
    "B = np.cos(theta_1)*np.cos(theta_4)/(np.cos(theta_2)*np.cos(theta_3))/ncaf0\n",
    "C = 0.0\n",
    "D = 1.0/A\n",
    "\n",
    "abcdt = paos.ABCD()\n",
    "abcdt.ABCD = np.array([[A,B], [C,D]])\n",
    "abcds = paos.ABCD()\n",
    "abcds.ABCD= np.array([[1, thickness/ncaf0], [0, 1]])\n",
    "\n",
    "print('           {:>10s}|{:>10s}|{:>10s}|{:>10s}'.format('power', 'M', 'Thickness', 'n1/n2'))\n",
    "print(\"Tangential {:10.6f}|{:10.3f}|{:10.6f}|{:10.2f}\".format(abcdt.power, abcdt.M, abcdt.thickness, abcdt.n1n2))\n",
    "print(\"Sagittal   {:10.6f}|{:10.3f}|{:10.6f}|{:10.2f}\".format(abcds.power, abcds.M, abcds.thickness, abcds.n1n2))\n",
    "print(\"---------------------\")\n",
    "print(\"Lens units are meters\")"
   ]
  },
  {
   "cell_type": "code",
   "execution_count": 7,
   "metadata": {},
   "outputs": [
    {
     "name": "stdout",
     "output_type": "stream",
     "text": [
      "                    f|         M| Thickness|     n1/n2|Dist. to focus\n",
      "Tangential 100.430445|     0.969|  2.828408|      1.00|    106.95\n",
      "Sagittal   100.430445|     0.969|  2.828408|      1.00|    106.95\n",
      "--------------------------\n",
      "Lens units are millimeters\n"
     ]
    }
   ],
   "source": [
    "# First doublet\n",
    "abcd = paos.ABCD(thickness = 2.695, curvature =  1.0/31.850,  n1 = 1.0,   n2 = ncaf0)\n",
    "abcd = paos.ABCD(thickness = 0.5,   curvature = -1.0/150.608, n1 = ncaf0, n2 = 1.0)*abcd\n",
    "abcd = paos.ABCD(thickness = 1.0,   curvature =  1.0/26.524,  n1 = 1.0,   n2 = nsap0)*abcd\n",
    "abcd = paos.ABCD(thickness = 0.0,   curvature =  1.0/20.797,  n1 = nsap0, n2 = 1.0)*abcd\n",
    "(A, B), (C, D) = abcd.ABCD\n",
    "\n",
    "print('           {:>10s}|{:>10s}|{:>10s}|{:>10s}|{:>10s}'.format('f', 'M', 'Thickness', 'n1/n2', 'Dist. to focus'))\n",
    "print(\"Tangential {:10.6f}|{:10.3f}|{:10.6f}|{:10.2f}|{:10.2f}\".format(1/abcd.power, abcd.M, abcd.thickness, abcd.n1n2, -D/C))\n",
    "print(\"Sagittal   {:10.6f}|{:10.3f}|{:10.6f}|{:10.2f}|{:10.2f}\".format(1/abcd.power, abcd.M, abcd.thickness, abcd.n1n2, -D/C))\n",
    "print(\"--------------------------\")\n",
    "print(\"Lens units are millimeters\")"
   ]
  },
  {
   "cell_type": "code",
   "execution_count": 8,
   "metadata": {},
   "outputs": [
    {
     "name": "stdout",
     "output_type": "stream",
     "text": [
      "                    f|         M| Thickness|     n1/n2|Dist. to focus\n",
      "Tangential 142.320730|     1.009|  5.071958|      1.00|    137.25\n",
      "Sagittal   142.320730|     1.009|  5.071958|      1.00|    137.25\n",
      "--------------------------\n",
      "Lens units are millimeters\n"
     ]
    }
   ],
   "source": [
    "# Second doublet\n",
    "abcd = paos.ABCD(thickness = 5.000, curvature =  1.0/91.219,  n1 = 1.0,   n2 = ncaf0)\n",
    "abcd = paos.ABCD(thickness = 0.955, curvature = -1.0/59.189,  n1 = ncaf0, n2 = 1.0)*abcd\n",
    "abcd = paos.ABCD(thickness = 1.0,   curvature = -1.0/56.053,  n1 = 1.0,   n2 = nsap0)*abcd\n",
    "abcd = paos.ABCD(thickness = 0.0,   curvature = -1.0/88.535,  n1 = nsap0, n2 = 1.0)*abcd\n",
    "(A, B), (C, D) = abcd.ABCD\n",
    "\n",
    "print('           {:>10s}|{:>10s}|{:>10s}|{:>10s}|{:>10s}'.format('f', 'M', 'Thickness', 'n1/n2', 'Dist. to focus'))\n",
    "print(\"Tangential {:10.6f}|{:10.3f}|{:10.6f}|{:10.2f}|{:10.2f}\".format(1/abcd.power, abcd.M, abcd.thickness, abcd.n1n2, -A/C))\n",
    "print(\"Sagittal   {:10.6f}|{:10.3f}|{:10.6f}|{:10.2f}|{:10.2f}\".format(1/abcd.power, abcd.M, abcd.thickness, abcd.n1n2, -A/C))\n",
    "print(\"--------------------------\")\n",
    "print(\"Lens units are millimeters\")"
   ]
  }
 ],
 "metadata": {
  "kernelspec": {
   "display_name": "Python 3",
   "language": "python",
   "name": "python3"
  },
  "language_info": {
   "codemirror_mode": {
    "name": "ipython",
    "version": 3
   },
   "file_extension": ".py",
   "mimetype": "text/x-python",
   "name": "python",
   "nbconvert_exporter": "python",
   "pygments_lexer": "ipython3",
   "version": "3.8.5"
  }
 },
 "nbformat": 4,
 "nbformat_minor": 4
}
