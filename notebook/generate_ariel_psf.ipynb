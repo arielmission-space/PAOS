{
 "cells": [
  {
   "cell_type": "code",
   "execution_count": 1,
   "outputs": [
    {
     "name": "stdout",
     "output_type": "stream",
     "text": [
      "paos - INFO - folder ../../../Paos-simulations/ExoSim2.0/AIRS-CH1 not found in directory tree. Creating..\r\n",
      "paos - INFO - log file name: ../../../Paos-simulations/ExoSim2.0/AIRS-CH1/test.log\r\n",
      "paos - INFO - code version 0.0.4\r\n",
      "paos - INFO - Parse lens file\r\n",
      "paos - INFO - Set up the POP\r\n",
      "paos - INFO - Run the POP\r\n",
      "paos - INFO - Start POP in parallel...\r\n",
      "100%|███████████████████████████████████████████| 22/22 [00:23<00:00,  1.08s/it]\r\n",
      "paos - INFO - POP completed in   25.8s\r\n",
      "paos - INFO - Save POP simulation output .h5 file to ../../../Paos-simulations/ExoSim2.0/AIRS-CH1/PAOS_TEL_COM_CH1_v01.h5\r\n",
      "paos - INFO - Saving ../../../Paos-simulations/ExoSim2.0/AIRS-CH1/PAOS_TEL_COM_CH1_v01.h5 started...\r\n",
      "paos - INFO - Remove old file\r\n",
      "paos - INFO - Saving ended.\r\n",
      "paos - INFO - Save POP simulation output plot\r\n",
      "paos - INFO - folder ../../../Paos-simulations/ExoSim2.0/AIRS-CH1/plots not found in directory tree. Creating..\r\n",
      "100%|███████████████████████████████████████████| 22/22 [00:05<00:00,  3.92it/s]\r\n",
      "paos - INFO - Plotting completed in    6.4s\r\n",
      "paos - INFO - Paos simulation completed.\r\n"
     ]
    }
   ],
   "source": [
    "!paos -c ../lens\\ data/Ariel_AIRS-CH1.ini -o ../../../Paos-simulations/ExoSim2.0/AIRS-CH1/PAOS_TEL_COM_CH1_v01.h5 -p -lo -wlg 3.9,7.8,30 -l -n 2"
   ],
   "metadata": {
    "collapsed": false,
    "pycharm": {
     "name": "#%%\n"
    }
   }
  },
  {
   "cell_type": "code",
   "execution_count": 2,
   "outputs": [
    {
     "name": "stdout",
     "output_type": "stream",
     "text": [
      "paos - INFO - folder ../../../Paos-simulations/ExoSim2.0/AIRS-CH0 not found in directory tree. Creating..\r\n",
      "paos - INFO - log file name: ../../../Paos-simulations/ExoSim2.0/AIRS-CH0/test.log\r\n",
      "paos - INFO - code version 0.0.4\r\n",
      "paos - INFO - Parse lens file\r\n",
      "paos - INFO - Set up the POP\r\n",
      "paos - INFO - Run the POP\r\n",
      "paos - INFO - Start POP in parallel...\r\n",
      "100%|███████████████████████████████████████████| 70/70 [00:59<00:00,  1.19it/s]\r\n",
      "paos - INFO - POP completed in   60.9s\r\n",
      "paos - INFO - Save POP simulation output .h5 file to ../../../Paos-simulations/ExoSim2.0/AIRS-CH0/PAOS_TEL_COM_CH0_v03.h5\r\n",
      "paos - INFO - Saving ../../../Paos-simulations/ExoSim2.0/AIRS-CH0/PAOS_TEL_COM_CH0_v03.h5 started...\r\n",
      "paos - INFO - Remove old file\r\n",
      "paos - INFO - Saving ended.\r\n",
      "paos - INFO - Save POP simulation output plot\r\n",
      "paos - INFO - folder ../../../Paos-simulations/ExoSim2.0/AIRS-CH0/plots not found in directory tree. Creating..\r\n",
      "100%|███████████████████████████████████████████| 70/70 [00:17<00:00,  4.12it/s]\r\n",
      "paos - INFO - Plotting completed in   17.8s\r\n",
      "paos - INFO - Paos simulation completed.\r\n"
     ]
    }
   ],
   "source": [
    "!paos -c ../lens\\ data/Ariel_AIRS-CH0.ini -o ../../../Paos-simulations/ExoSim2.0/AIRS-CH0/PAOS_TEL_COM_CH0_v03.h5 -p -lo -wlg 1.95,3.9,100 -l -n 2"
   ],
   "metadata": {
    "collapsed": false,
    "pycharm": {
     "name": "#%%\n"
    }
   }
  },
  {
   "cell_type": "code",
   "execution_count": 3,
   "outputs": [
    {
     "name": "stdout",
     "output_type": "stream",
     "text": [
      "paos - INFO - folder ../../../Paos-simulations/ExoSim2.0/FGS-VISPHOT not found in directory tree. Creating..\r\n",
      "paos - INFO - log file name: ../../../Paos-simulations/ExoSim2.0/FGS-VISPHOT/test.log\r\n",
      "paos - INFO - code version 0.0.4\r\n",
      "paos - INFO - Parse lens file\r\n",
      "paos - INFO - Set up the POP\r\n",
      "paos - INFO - Run the POP\r\n",
      "paos - INFO - Start POP using a single thread...\r\n",
      "100%|█████████████████████████████████████████████| 1/1 [00:01<00:00,  1.23s/it]\r\n",
      "paos - INFO - POP completed in    1.2s\r\n",
      "paos - INFO - Save POP simulation output .h5 file to ../../../Paos-simulations/ExoSim2.0/FGS-VISPHOT/PAOS_TEL_COM_VISPHOT_v01.h5\r\n",
      "paos - INFO - Saving ../../../Paos-simulations/ExoSim2.0/FGS-VISPHOT/PAOS_TEL_COM_VISPHOT_v01.h5 started...\r\n",
      "paos - INFO - Remove old file\r\n",
      "paos - INFO - Saving ended.\r\n",
      "paos - INFO - Save POP simulation output plot\r\n",
      "paos - INFO - folder ../../../Paos-simulations/ExoSim2.0/FGS-VISPHOT/plots not found in directory tree. Creating..\r\n",
      "100%|█████████████████████████████████████████████| 1/1 [00:00<00:00,  1.42it/s]\r\n",
      "paos - INFO - Plotting completed in    0.7s\r\n",
      "paos - INFO - Paos simulation completed.\r\n"
     ]
    }
   ],
   "source": [
    "!paos -c ../lens\\ data/Ariel_FGS-VISPhot.ini -o ../../../Paos-simulations/ExoSim2.0/FGS-VISPHOT/PAOS_TEL_COM_VISPHOT_v01.h5 -p -lo -l -wl 0.55"
   ],
   "metadata": {
    "collapsed": false,
    "pycharm": {
     "name": "#%%\n"
    }
   }
  },
  {
   "cell_type": "code",
   "execution_count": 4,
   "outputs": [
    {
     "name": "stdout",
     "output_type": "stream",
     "text": [
      "paos - INFO - folder ../../../Paos-simulations/ExoSim2.0/FGS-FGS1 not found in directory tree. Creating..\r\n",
      "paos - INFO - log file name: ../../../Paos-simulations/ExoSim2.0/FGS-FGS1/test.log\r\n",
      "paos - INFO - code version 0.0.4\r\n",
      "paos - INFO - Parse lens file\r\n",
      "paos - INFO - Set up the POP\r\n",
      "paos - INFO - Run the POP\r\n",
      "paos - INFO - Start POP using a single thread...\r\n",
      "100%|█████████████████████████████████████████████| 1/1 [00:01<00:00,  1.11s/it]\r\n",
      "paos - INFO - POP completed in    1.1s\r\n",
      "paos - INFO - Save POP simulation output .h5 file to ../../../Paos-simulations/ExoSim2.0/FGS-FGS1/PAOS_TEL_COM_FGS1_v01.h5\r\n",
      "paos - INFO - Saving ../../../Paos-simulations/ExoSim2.0/FGS-FGS1/PAOS_TEL_COM_FGS1_v01.h5 started...\r\n",
      "paos - INFO - Remove old file\r\n",
      "paos - INFO - Saving ended.\r\n",
      "paos - INFO - Save POP simulation output plot\r\n",
      "paos - INFO - folder ../../../Paos-simulations/ExoSim2.0/FGS-FGS1/plots not found in directory tree. Creating..\r\n",
      "100%|█████████████████████████████████████████████| 1/1 [00:00<00:00,  1.85it/s]\r\n",
      "paos - INFO - Plotting completed in    0.5s\r\n",
      "paos - INFO - Paos simulation completed.\r\n"
     ]
    }
   ],
   "source": [
    "!paos -c ../lens\\ data/Ariel_FGS-FGS1.ini -o ../../../Paos-simulations/ExoSim2.0/FGS-FGS1/PAOS_TEL_COM_FGS1_v01.h5 -p -lo -l -wl 0.705"
   ],
   "metadata": {
    "collapsed": false,
    "pycharm": {
     "name": "#%%\n"
    }
   }
  },
  {
   "cell_type": "code",
   "execution_count": 5,
   "outputs": [
    {
     "name": "stdout",
     "output_type": "stream",
     "text": [
      "paos - INFO - folder ../../../Paos-simulations/ExoSim2.0/FGS-FGS2 not found in directory tree. Creating..\r\n",
      "paos - INFO - log file name: ../../../Paos-simulations/ExoSim2.0/FGS-FGS2/test.log\r\n",
      "paos - INFO - code version 0.0.4\r\n",
      "paos - INFO - Parse lens file\r\n",
      "paos - INFO - Set up the POP\r\n",
      "paos - INFO - Run the POP\r\n",
      "paos - INFO - Start POP using a single thread...\r\n",
      "100%|█████████████████████████████████████████████| 1/1 [00:00<00:00,  1.01it/s]\r\n",
      "paos - INFO - POP completed in    1.0s\r\n",
      "paos - INFO - Save POP simulation output .h5 file to ../../../Paos-simulations/ExoSim2.0/FGS-FGS2/PAOS_TEL_COM_FGS2_v01.h5\r\n",
      "paos - INFO - Saving ../../../Paos-simulations/ExoSim2.0/FGS-FGS2/PAOS_TEL_COM_FGS2_v01.h5 started...\r\n",
      "paos - INFO - Remove old file\r\n",
      "paos - INFO - Saving ended.\r\n",
      "paos - INFO - Save POP simulation output plot\r\n",
      "paos - INFO - folder ../../../Paos-simulations/ExoSim2.0/FGS-FGS2/plots not found in directory tree. Creating..\r\n",
      "100%|█████████████████████████████████████████████| 1/1 [00:00<00:00,  1.84it/s]\r\n",
      "paos - INFO - Plotting completed in    0.5s\r\n",
      "paos - INFO - Paos simulation completed.\r\n"
     ]
    }
   ],
   "source": [
    "!paos -c ../lens\\ data/Ariel_FGS-FGS2.ini -o ../../../Paos-simulations/ExoSim2.0/FGS-FGS2/PAOS_TEL_COM_FGS2_v01.h5 -p -lo -l -wl 0.955"
   ],
   "metadata": {
    "collapsed": false,
    "pycharm": {
     "name": "#%%\n"
    }
   }
  },
  {
   "cell_type": "code",
   "execution_count": 6,
   "outputs": [
    {
     "name": "stdout",
     "output_type": "stream",
     "text": [
      "paos - INFO - folder ../../../Paos-simulations/ExoSim2.0/FGS-NIRSPEC not found in directory tree. Creating..\r\n",
      "paos - INFO - log file name: ../../../Paos-simulations/ExoSim2.0/FGS-NIRSPEC/test.log\r\n",
      "paos - INFO - code version 0.0.4\r\n",
      "paos - INFO - Parse lens file\r\n",
      "paos - INFO - Set up the POP\r\n",
      "paos - INFO - Run the POP\r\n",
      "paos - INFO - Start POP in parallel...\r\n",
      "100%|█████████████████████████████████████████████| 9/9 [00:06<00:00,  1.48it/s]\r\n",
      "paos - INFO - POP completed in    8.4s\r\n",
      "paos - INFO - Save POP simulation output .h5 file to ../../../Paos-simulations/ExoSim2.0/FGS-NIRSPEC/PAOS_TEL_COM_NIRSPEC_v01.h5\r\n",
      "paos - INFO - Saving ../../../Paos-simulations/ExoSim2.0/FGS-NIRSPEC/PAOS_TEL_COM_NIRSPEC_v01.h5 started...\r\n",
      "paos - INFO - Remove old file\r\n",
      "paos - INFO - Saving ended.\r\n",
      "paos - INFO - Save POP simulation output plot\r\n",
      "paos - INFO - folder ../../../Paos-simulations/ExoSim2.0/FGS-NIRSPEC/plots not found in directory tree. Creating..\r\n",
      "100%|█████████████████████████████████████████████| 9/9 [00:01<00:00,  6.78it/s]\r\n",
      "paos - INFO - Plotting completed in    2.2s\r\n",
      "paos - INFO - Paos simulation completed.\r\n"
     ]
    }
   ],
   "source": [
    "!paos -c ../lens\\ data/Ariel_FGS-NIRSpec.ini -o ../../../Paos-simulations/ExoSim2.0/FGS-NIRSPEC/PAOS_TEL_COM_NIRSPEC_v01.h5 -p -lo -wlg 1.1,1.95,15 -l -n 2"
   ],
   "metadata": {
    "collapsed": false,
    "pycharm": {
     "name": "#%%\n"
    }
   }
  },
  {
   "cell_type": "code",
   "execution_count": null,
   "outputs": [],
   "source": [],
   "metadata": {
    "collapsed": false,
    "pycharm": {
     "name": "#%%\n"
    }
   }
  }
 ],
 "metadata": {
  "kernelspec": {
   "display_name": "Python 3",
   "language": "python",
   "name": "python3"
  },
  "language_info": {
   "codemirror_mode": {
    "name": "ipython",
    "version": 2
   },
   "file_extension": ".py",
   "mimetype": "text/x-python",
   "name": "python",
   "nbconvert_exporter": "python",
   "pygments_lexer": "ipython2",
   "version": "2.7.6"
  }
 },
 "nbformat": 4,
 "nbformat_minor": 0
}