{
 "cells": [
  {
   "cell_type": "markdown",
   "metadata": {},
   "source": [
    "# PAOS\n",
    "\n",
    "This notebook demonstrates the basic functionality of PAOS.\n",
    "\n",
    "Select the desired example configuration desired below"
   ]
  },
  {
   "cell_type": "code",
   "execution_count": 1,
   "metadata": {},
   "outputs": [],
   "source": [
    "import numpy as np\n",
    "from matplotlib import pyplot as plt\n",
    "import os, sys, time\n",
    "from pathlib import Path\n",
    "\n",
    "# Add to PYTHONPATH the path to local libraries\n",
    "paospath = \"~/git/PAOS\"\n",
    "if not os.path.expanduser(paospath) in sys.path:\n",
    "    sys.path.append( os.path.expanduser(paospath) )\n",
    "\n",
    "import paos"
   ]
  },
  {
   "cell_type": "markdown",
   "metadata": {},
   "source": [
    "## Inputs\n",
    "\n",
    "Define lens file to use"
   ]
  },
  {
   "cell_type": "code",
   "execution_count": 2,
   "metadata": {},
   "outputs": [],
   "source": [
    "OpticalPrescription = 'lens_file.ini'\n",
    "\n",
    "OpticalPrescriptionFile = os.path.join(paospath, 'lens data', OpticalPrescription)\n",
    "\n"
   ]
  },
  {
   "cell_type": "code",
   "execution_count": 3,
   "metadata": {
    "collapsed": false,
    "jupyter": {
     "outputs_hidden": false
    },
    "pycharm": {
     "name": "#%%\n"
    }
   },
   "outputs": [],
   "source": [
    "# Parse lens file\n",
    "pup_diameter, general, fields, opt_chain = paos.ParseConfig(OpticalPrescriptionFile)"
   ]
  },
  {
   "cell_type": "markdown",
   "metadata": {},
   "source": [
    "## Ray tracing\n",
    "Implement a full raytracing. For diagnostic purposes."
   ]
  },
  {
   "cell_type": "code",
   "execution_count": 9,
   "metadata": {
    "collapsed": false,
    "jupyter": {
     "outputs_hidden": false
    },
    "pycharm": {
     "name": "#%%\n"
    }
   },
   "outputs": [
    {
     "name": "stderr",
     "output_type": "stream",
     "text": [
      "paos - INFO - S02 - LOS tilt        y:  0.000mm ut: 1.745e-03 rad x:  0.000mm us:  0.000 rad\n",
      "paos - INFO - S03 - Move to M1      y:500.000mm ut: 1.745e-03 rad x:  0.000mm us:  0.000 rad\n",
      "paos - INFO - S04 - M1              y: 49.136mm ut: 4.294e-01 rad x:  0.000mm us:  0.000 rad\n",
      "paos - INFO - S05 - M2              y: 24.559mm ut:-1.846e-02 rad x:  0.000mm us:  0.000 rad\n",
      "paos - INFO - S06 - FOCUS           y: 19.855mm ut:-1.846e-02 rad x:  0.000mm us:  0.000 rad\n",
      "paos - INFO - S07 - FOCUS           y: 19.855mm ut: 9.637e-02 rad x:  0.000mm us:  0.000 rad\n",
      "paos - INFO - S08 - Ray Centering   y: -0.018mm ut:-6.050e-05 rad x:  0.000mm us:  0.000 rad\n",
      "paos - INFO - S09 - Move to M4      y: -0.006mm ut:-6.050e-05 rad x:  0.000mm us:  0.000 rad\n",
      "paos - INFO - S10 - x tilt - M4     y: -0.009mm ut:-1.124e+00 rad x:  0.000mm us:  0.000 rad\n",
      "paos - INFO - S11 - M4              y: -0.009mm ut: 1.124e+00 rad x:  0.000mm us:  0.000 rad\n",
      "paos - INFO - S12 - x tilt - M4     y:  0.000mm ut: 6.050e-05 rad x:  0.000mm us:  0.000 rad\n",
      "paos - INFO - S13 - exit pupil      y:  0.064mm ut: 6.050e-05 rad x:  0.000mm us:  0.000 rad\n",
      "paos - INFO - S15 - M1              y:  0.014mm ut:-2.095e-04 rad x:  0.000mm us:  0.000 rad\n",
      "paos - INFO - S16 - IMAGE_PLANE     y:  0.014mm ut:-2.095e-04 rad x:  0.000mm us:  0.000 rad\n"
     ]
    },
    {
     "name": "stdout",
     "output_type": "stream",
     "text": [
      "S02 - LOS tilt        y:  0.000mm ut: 1.745e-03 rad x:  0.000mm us:  0.000 rad\n",
      "S03 - Move to M1      y:500.000mm ut: 1.745e-03 rad x:  0.000mm us:  0.000 rad\n",
      "S04 - M1              y: 49.136mm ut: 4.294e-01 rad x:  0.000mm us:  0.000 rad\n",
      "S05 - M2              y: 24.559mm ut:-1.846e-02 rad x:  0.000mm us:  0.000 rad\n",
      "S06 - FOCUS           y: 19.855mm ut:-1.846e-02 rad x:  0.000mm us:  0.000 rad\n",
      "S07 - FOCUS           y: 19.855mm ut: 9.637e-02 rad x:  0.000mm us:  0.000 rad\n",
      "S08 - Ray Centering   y: -0.018mm ut:-6.050e-05 rad x:  0.000mm us:  0.000 rad\n",
      "S09 - Move to M4      y: -0.006mm ut:-6.050e-05 rad x:  0.000mm us:  0.000 rad\n",
      "S10 - x tilt - M4     y: -0.009mm ut:-1.124e+00 rad x:  0.000mm us:  0.000 rad\n",
      "S11 - M4              y: -0.009mm ut: 1.124e+00 rad x:  0.000mm us:  0.000 rad\n",
      "S12 - x tilt - M4     y:  0.000mm ut: 6.050e-05 rad x:  0.000mm us:  0.000 rad\n",
      "S13 - exit pupil      y:  0.064mm ut: 6.050e-05 rad x:  0.000mm us:  0.000 rad\n",
      "S15 - M1              y:  0.014mm ut:-2.095e-04 rad x:  0.000mm us:  0.000 rad\n",
      "S16 - IMAGE_PLANE     y:  0.014mm ut:-2.095e-04 rad x:  0.000mm us:  0.000 rad\n"
     ]
    }
   ],
   "source": [
    "raytracelist = paos.raytrace(fields[0], opt_chain)\n",
    "for item in raytracelist:\n",
    "    print(item)"
   ]
  },
  {
   "cell_type": "markdown",
   "metadata": {},
   "source": [
    "## Physical optics propagation\n",
    "\n",
    "Run the POP"
   ]
  },
  {
   "cell_type": "code",
   "execution_count": null,
   "metadata": {},
   "outputs": [],
   "source": [
    "start_time = time.time()\n",
    "print('Start POP...')\n",
    "\n",
    "retval = paos.run(pup_diameter, 1.0e-6 * general['wavelength'], general['grid size'], general['zoom'],\n",
    "                 fields['0'], opt_chain)\n",
    "\n",
    "end_time = time.time()\n",
    "print('POP completed in {:6.1f}s'.format(end_time-start_time))"
   ]
  },
  {
   "cell_type": "markdown",
   "metadata": {},
   "source": [
    "## Plot results"
   ]
  },
  {
   "cell_type": "code",
   "execution_count": null,
   "metadata": {},
   "outputs": [],
   "source": [
    "plots_dir = './plots'\n",
    "Path(plots_dir).mkdir(parents=True, exist_ok=True)\n",
    "figname = os.path.join(plots_dir, ''.join([OpticalPrescription, '_', str(1.0e-6 * general['wavelength']), '.png']))\n",
    "\n",
    "paos.plot_pop(retval, ima_scale='log', ncols=3, figname=figname)"
   ]
  },
  {
   "cell_type": "markdown",
   "metadata": {},
   "source": [
    "# Run multiple POP simulations in parallel\n",
    "\n",
    "This section demonstrates performing multiple POP simulations using parallel threads."
   ]
  },
  {
   "cell_type": "code",
   "execution_count": null,
   "metadata": {},
   "outputs": [],
   "source": [
    "from joblib import Parallel, delayed\n",
    "from tqdm.notebook import tqdm\n",
    "\n",
    "# Run the POP at two different wavelengths.\n",
    "\n",
    "start_time = time.time()\n",
    "print('Start POP in parallel...')\n",
    "\n",
    "n_jobs = 2\n",
    "wavelengths = [2.0, 3.0]  #microns\n",
    "\n",
    "ret = Parallel(n_jobs=n_jobs)(delayed(paos.run)(pup_diameter,\n",
    "                                                1.0e-6 * wl,\n",
    "                                                general['grid size'],\n",
    "                                                general['zoom'],\n",
    "                                                fields['0'], \n",
    "                                                opt_chain\n",
    "                                                ) \n",
    "                                                for wl in tqdm(wavelengths))\n",
    "\n",
    "end_time = time.time()\n",
    "print('Parallel POP completed in {:6.1f}s'.format(end_time-start_time))"
   ]
  },
  {
   "cell_type": "markdown",
   "metadata": {},
   "source": [
    "# Save results\n",
    "\n",
    "This section demonstrates saving your results. \n",
    "The results are saved in .h5 format.\n",
    "\n",
    "The saving routine are very flexible: you can either \n",
    "- save everything in your results (wfo, dx, dx, apertures...)\n",
    "- or just a selection of things that you need (just the wfo, or whatever list of things)"
   ]
  },
  {
   "cell_type": "code",
   "execution_count": null,
   "metadata": {},
   "outputs": [],
   "source": [
    "saving_dir = './data'\n",
    "Path(saving_dir).mkdir(parents=True, exist_ok=True)"
   ]
  },
  {
   "cell_type": "markdown",
   "metadata": {},
   "source": [
    "1) This is how to save your output if you simulated just one POP realisation. "
   ]
  },
  {
   "cell_type": "code",
   "execution_count": null,
   "metadata": {
    "collapsed": false,
    "jupyter": {
     "outputs_hidden": false
    },
    "pycharm": {
     "name": "#%%\n"
    }
   },
   "outputs": [],
   "source": [
    "HDF5FileName = os.path.join(saving_dir, ''.join([OpticalPrescription, '_everything.h5']))\n",
    "paos.save_output(retval, HDF5FileName, overwrite=True, verbose=True)\n",
    "\n",
    "#HDF5FileName = os.path.join(saving_dir, ''.join([OpticalPrescription, '_selection.h5']))\n",
    "#save_output(retval, HDF5FileName, keys_to_keep=['wfo', 'dx'], overwrite=True, verbose=False)"
   ]
  },
  {
   "cell_type": "markdown",
   "metadata": {},
   "source": [
    "2) This is how to save your output if you simulated more than one POP realisation. "
   ]
  },
  {
   "cell_type": "code",
   "execution_count": null,
   "metadata": {},
   "outputs": [],
   "source": [
    "# Since we just ran the POP at two different wavelengths, \n",
    "# let's use them to unequivocally tag the two simulations.\n",
    "\n",
    "group_tags = list(map(str, wavelengths))"
   ]
  },
  {
   "cell_type": "code",
   "execution_count": null,
   "metadata": {
    "collapsed": false,
    "jupyter": {
     "outputs_hidden": false
    },
    "pycharm": {
     "name": "#%%\n"
    }
   },
   "outputs": [],
   "source": [
    "HDF5FileName = os.path.join(saving_dir, ''.join([OpticalPrescription, '_everything_cube.h5']))\n",
    "paos.save_datacube(ret, HDF5FileName, group_tags, overwrite=True, verbose=True)\n",
    "\n",
    "#HDF5FileName = os.path.join(saving_dir, ''.join([OpticalPrescription, '_selection_cube.h5']))\n",
    "#save_datacube(ret, HDF5FileName, group_tags,\n",
    "#              keys_to_keep=['aperture', 'dx', 'dy'], overwrite=True, verbose=False)              "
   ]
  },
  {
   "cell_type": "code",
   "execution_count": null,
   "metadata": {},
   "outputs": [],
   "source": []
  }
 ],
 "metadata": {
  "interpreter": {
   "hash": "31f2aee4e71d21fbe5cf8b01ff0e069b9275f58929596ceb00d14d90e3e16cd6"
  },
  "kernelspec": {
   "display_name": "Python 3",
   "language": "python",
   "name": "python3"
  },
  "language_info": {
   "codemirror_mode": {
    "name": "ipython",
    "version": 3
   },
   "file_extension": ".py",
   "mimetype": "text/x-python",
   "name": "python",
   "nbconvert_exporter": "python",
   "pygments_lexer": "ipython3",
   "version": "3.8.5"
  }
 },
 "nbformat": 4,
 "nbformat_minor": 5
}
