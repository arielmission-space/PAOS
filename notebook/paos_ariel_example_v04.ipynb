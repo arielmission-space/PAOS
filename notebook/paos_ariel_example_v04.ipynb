{
 "cells": [
  {
   "cell_type": "markdown",
   "metadata": {
    "pycharm": {
     "name": "#%% md\n"
    }
   },
   "source": [
    "# PAOS\n",
    "\n",
    "This notebook demonstrates the basic functionality of PAOS.\n",
    "\n",
    "Select the desired example configuration desired below"
   ]
  },
  {
   "cell_type": "code",
   "execution_count": 1,
   "metadata": {
    "pycharm": {
     "name": "#%%\n"
    }
   },
   "outputs": [],
   "source": [
    "import os, time\n",
    "import numpy as np\n",
    "import matplotlib.pyplot as plt\n",
    "from pathlib import Path\n",
    "\n",
    "import paos"
   ]
  },
  {
   "cell_type": "markdown",
   "metadata": {
    "pycharm": {
     "name": "#%% md\n"
    }
   },
   "source": [
    "## Inputs\n",
    "\n",
    "Define lens file to use"
   ]
  },
  {
   "cell_type": "code",
   "execution_count": 2,
   "metadata": {
    "pycharm": {
     "name": "#%%\n"
    }
   },
   "outputs": [],
   "source": [
    "OpticalPrescription = 'Ariel_AIRS-CH1.ini'\n",
    "# OpticalPrescription = 'lens_file_TA_Ground.ini'\n",
    "\n",
    "OpticalPrescriptionFile = os.path.join('../lens data', OpticalPrescription)\n",
    "\n",
    "# Parse lens file\n",
    "from paos.core.parseConfig import parse_config\n",
    "pup_diameter, parameters, wavelengths, fields, opt_chains = parse_config(OpticalPrescriptionFile)"
   ]
  },
  {
   "cell_type": "markdown",
   "metadata": {
    "pycharm": {
     "name": "#%% md\n"
    }
   },
   "source": [
    "## Ray tracing\n",
    "Implement a full raytracing. For diagnostic purposes."
   ]
  },
  {
   "cell_type": "code",
   "execution_count": 3,
   "metadata": {
    "collapsed": false,
    "jupyter": {
     "outputs_hidden": false
    },
    "pycharm": {
     "name": "#%%\n"
    }
   },
   "outputs": [
    {
     "data": {
      "text/plain": "['S02 - LOS tilt        y:  0.000mm ut: 1.745e-03 rad x:  0.000mm us: 0.000e+00 rad',\n 'S03 - Move to M1      y:500.000mm ut: 1.745e-03 rad x:  0.000mm us: 0.000e+00 rad',\n 'S04 - M1              y: 49.136mm ut: 4.294e-01 rad x:  0.000mm us: 0.000e+00 rad',\n 'S05 - M2              y: 24.559mm ut:-1.846e-02 rad x:  0.000mm us: 0.000e+00 rad',\n 'S06 - FOCUS           y: 19.855mm ut:-1.846e-02 rad x:  0.000mm us: 0.000e+00 rad',\n 'S07 - M3              y: 19.855mm ut: 9.637e-02 rad x:  0.000mm us: 0.000e+00 rad',\n 'S08 - Ray Centering   y: -0.018mm ut:-6.050e-05 rad x:  0.000mm us: 0.000e+00 rad',\n 'S09 - Move to M4      y: -0.006mm ut:-6.050e-05 rad x:  0.000mm us: 0.000e+00 rad',\n 'S10 - x tilt - M4     y: -0.009mm ut:-1.124e+00 rad x:  0.000mm us: 0.000e+00 rad',\n 'S11 - M4              y: -0.009mm ut: 1.124e+00 rad x:  0.000mm us: 0.000e+00 rad',\n 'S12 - x tilt - M4     y:  0.000mm ut: 6.050e-05 rad x:  0.000mm us: 0.000e+00 rad',\n 'S14 - exit pupil      y:  0.064mm ut: 6.050e-05 rad x:  0.000mm us: 0.000e+00 rad',\n 'S15 - M7              y:  0.014mm ut:-2.092e-04 rad x:  0.000mm us: 0.000e+00 rad',\n 'S16 - slit            y: -0.008mm ut:-2.092e-04 rad x:  0.000mm us: 0.000e+00 rad',\n 'S17 - CH1 L1 in       y: -0.008mm ut:-2.287e-04 rad x:  0.000mm us: 0.000e+00 rad',\n 'S18 - CH1 L1 out      y: -0.008mm ut:-2.151e-04 rad x:  0.000mm us: 0.000e+00 rad',\n 'S19 - CH1 L2 in       y: -0.009mm ut:-1.145e-04 rad x:  0.000mm us: 0.000e+00 rad',\n 'S20 - CH1 L2 out      y: -0.036mm ut:-1.293e-04 rad x:  0.000mm us: 0.000e+00 rad',\n 'S21 - prism           y: -0.071mm ut:-8.590e-05 rad x:  0.000mm us: 0.000e+00 rad',\n 'S22 - CH1 L3 in       y: -0.072mm ut:-7.754e-04 rad x:  0.000mm us: 0.000e+00 rad',\n 'S23 - CH1 L3 out      y: -0.072mm ut:-1.739e-04 rad x:  0.000mm us: 0.000e+00 rad',\n 'S24 - CH1 L4 in       y: -0.071mm ut: 3.504e-04 rad x:  0.000mm us: 0.000e+00 rad',\n 'S25 - CH1 L4 out      y: -0.006mm ut: 9.448e-04 rad x:  0.000mm us: 0.000e+00 rad',\n 'S26 - IMAGE_PLANE     y: -0.006mm ut: 9.448e-04 rad x:  0.000mm us: 0.000e+00 rad']"
     },
     "execution_count": 3,
     "metadata": {},
     "output_type": "execute_result"
    }
   ],
   "source": [
    "paos.raytrace(fields[0], opt_chains[0], y=-0.0)"
   ]
  },
  {
   "cell_type": "code",
   "execution_count": 4,
   "metadata": {
    "pycharm": {
     "name": "#%%\n"
    }
   },
   "outputs": [
    {
     "name": "stdout",
     "output_type": "stream",
     "text": [
      "Start POP...\n",
      "POP completed in    1.2s\n"
     ]
    }
   ],
   "source": [
    "start_time = time.time()\n",
    "print('Start POP...')\n",
    "\n",
    "retval = paos.run(pup_diameter, 1.0e-6 * wavelengths[0], parameters['grid_size'], parameters['zoom'], fields[0], opt_chains[0])\n",
    "\n",
    "end_time = time.time()\n",
    "print('POP completed in {:6.1f}s'.format(end_time-start_time))"
   ]
  },
  {
   "cell_type": "raw",
   "metadata": {
    "pycharm": {
     "name": "#%% raw\n"
    }
   },
   "source": [
    "# This box is used to inspect a particular surface. Do not remove.\n",
    "item = retval[16]\n",
    "scale = opt_chains[0][15]['ABCDt'].power\n",
    "\n",
    "extent = 3600 * np.rad2deg(np.array(item['extent']) * scale)\n",
    "\n",
    "ima = np.ma.masked_array(data=item['amplitude'] ** 2)\n",
    "im = plt.imshow(ima, extent=extent, origin='lower', cmap='turbo')  #, vmax=1, vmin=0.001)\n",
    "\n",
    "plt.xlim(-1000, 1000)\n",
    "plt.ylim(-1000, 1000)\n",
    "plt.xlabel('arcsec')\n",
    "plt.ylabel('arcsec')\n",
    "plt.grid()\n"
   ]
  },
  {
   "cell_type": "markdown",
   "metadata": {
    "pycharm": {
     "name": "#%% md\n"
    }
   },
   "source": [
    "## Plot results"
   ]
  },
  {
   "cell_type": "code",
   "execution_count": 5,
   "metadata": {
    "pycharm": {
     "name": "#%%\n"
    }
   },
   "outputs": [],
   "source": [
    "plots_dir = './plots'\n",
    "Path(plots_dir).mkdir(parents=True, exist_ok=True)\n",
    "figname = os.path.join(plots_dir, ''.join([OpticalPrescription, '_', str(1.0e-6 * wavelengths[0]), '.png']))\n",
    "paos.plot_pop(retval, ima_scale='log', ncols=3, figname=figname)#, surface_zoom={23:5})"
   ]
  },
  {
   "cell_type": "markdown",
   "metadata": {
    "pycharm": {
     "name": "#%% md\n"
    }
   },
   "source": [
    "# Run multiple POP simulations in parallel\n",
    "\n",
    "This section demonstrates performing multiple POP simulations using parallel threads."
   ]
  },
  {
   "cell_type": "code",
   "execution_count": 6,
   "metadata": {
    "pycharm": {
     "name": "#%%\n"
    }
   },
   "outputs": [
    {
     "name": "stdout",
     "output_type": "stream",
     "text": [
      "Start POP in parallel...\n"
     ]
    },
    {
     "data": {
      "text/plain": "0it [00:00, ?it/s]",
      "application/vnd.jupyter.widget-view+json": {
       "version_major": 2,
       "version_minor": 0,
       "model_id": "bcd78b93fa3f4605a03f521561e42d83"
      }
     },
     "metadata": {},
     "output_type": "display_data"
    },
    {
     "name": "stdout",
     "output_type": "stream",
     "text": [
      "Parallel POP completed in    5.3s\n"
     ]
    }
   ],
   "source": [
    "from joblib import Parallel, delayed\n",
    "from tqdm.notebook import tqdm\n",
    "\n",
    "# Run the POP at two different wavelengths.\n",
    "\n",
    "start_time = time.time()\n",
    "print('Start POP in parallel...')\n",
    "\n",
    "n_jobs = len(wavelengths)\n",
    "\n",
    "ret = Parallel(n_jobs=n_jobs)(delayed(paos.run)(pup_diameter,\n",
    "                                                1.0e-6 * wl,\n",
    "                                                parameters['grid_size'], \n",
    "                                                parameters['zoom'],\n",
    "                                                fields[0], \n",
    "                                                opt_chain\n",
    "                                                ) \n",
    "                                                for wl, opt_chain in tqdm( zip(wavelengths, opt_chains)))\n",
    "\n",
    "end_time = time.time()\n",
    "print('Parallel POP completed in {:6.1f}s'.format(end_time-start_time))"
   ]
  },
  {
   "cell_type": "markdown",
   "metadata": {
    "pycharm": {
     "name": "#%% md\n"
    }
   },
   "source": [
    "# Save results\n",
    "\n",
    "This section demonstrates saving your results. \n",
    "The results are saved in .h5 format.\n",
    "\n",
    "The saving routine are very flexible: you can either \n",
    "- save everything in your results (wfo, dx, dx, apertures...)\n",
    "- or just a selection of things that you need (just the wfo, or whatever list of things)"
   ]
  },
  {
   "cell_type": "code",
   "execution_count": 7,
   "metadata": {
    "pycharm": {
     "name": "#%%\n"
    }
   },
   "outputs": [],
   "source": [
    "saving_dir = './data'\n",
    "Path(saving_dir).mkdir(parents=True, exist_ok=True)"
   ]
  },
  {
   "cell_type": "markdown",
   "metadata": {
    "pycharm": {
     "name": "#%% md\n"
    }
   },
   "source": [
    "1) This is how to save your output if you simulated just one POP realisation. "
   ]
  },
  {
   "cell_type": "code",
   "execution_count": 8,
   "metadata": {
    "collapsed": false,
    "jupyter": {
     "outputs_hidden": false
    },
    "pycharm": {
     "name": "#%%\n"
    }
   },
   "outputs": [
    {
     "name": "stderr",
     "output_type": "stream",
     "text": [
      "paos - INFO - saving ./data/Ariel_AIRS-CH1.ini_selection.h5 started...\n",
      "paos - INFO - removing old file\n",
      "paos - INFO - saving ended.\n"
     ]
    }
   ],
   "source": [
    "# HDF5FileName = os.path.join(saving_dir, ''.join([OpticalPrescription, '_everything.h5']))\n",
    "# paos.save_output(retval, HDF5FileName, overwrite=True)\n",
    "\n",
    "HDF5FileName = os.path.join(saving_dir, ''.join([OpticalPrescription, '_selection.h5']))\n",
    "paos.save_output(retval, HDF5FileName, keys_to_keep=['wfo', 'dx'], overwrite=True)"
   ]
  },
  {
   "cell_type": "markdown",
   "metadata": {
    "pycharm": {
     "name": "#%% md\n"
    }
   },
   "source": [
    "2) This is how to save your output if you simulated more than one POP realisation. "
   ]
  },
  {
   "cell_type": "code",
   "execution_count": 9,
   "metadata": {
    "pycharm": {
     "name": "#%%\n"
    }
   },
   "outputs": [],
   "source": [
    "# Since we just ran the POP at two different wavelengths, \n",
    "# let's use them to unequivocally tag the two simulations.\n",
    "\n",
    "group_tags = list(map(str, wavelengths))"
   ]
  },
  {
   "cell_type": "code",
   "execution_count": 10,
   "metadata": {
    "collapsed": false,
    "jupyter": {
     "outputs_hidden": false
    },
    "pycharm": {
     "name": "#%%\n"
    }
   },
   "outputs": [
    {
     "name": "stderr",
     "output_type": "stream",
     "text": [
      "paos - INFO - Saving ./data/Ariel_AIRS-CH1.ini_selection_cube.h5 started...\n",
      "paos - INFO - Remove old file\n",
      "paos - INFO - Saving ended.\n"
     ]
    }
   ],
   "source": [
    "# HDF5FileName = os.path.join(saving_dir, ''.join([OpticalPrescription, '_everything_cube.h5']))\n",
    "# paos.save_datacube(ret, HDF5FileName, group_tags, overwrite=True)\n",
    "\n",
    "HDF5FileName = os.path.join(saving_dir, ''.join([OpticalPrescription, '_selection_cube.h5']))\n",
    "paos.save_datacube(ret, HDF5FileName, group_tags,\n",
    "                   keys_to_keep=['amplitude', 'dx', 'dy'], overwrite=True)"
   ]
  },
  {
   "cell_type": "code",
   "execution_count": 10,
   "metadata": {
    "pycharm": {
     "name": "#%%\n"
    }
   },
   "outputs": [],
   "source": []
  }
 ],
 "metadata": {
  "interpreter": {
   "hash": "31f2aee4e71d21fbe5cf8b01ff0e069b9275f58929596ceb00d14d90e3e16cd6"
  },
  "kernelspec": {
   "display_name": "Python 3",
   "language": "python",
   "name": "python3"
  },
  "language_info": {
   "codemirror_mode": {
    "name": "ipython",
    "version": 3
   },
   "file_extension": ".py",
   "mimetype": "text/x-python",
   "name": "python",
   "nbconvert_exporter": "python",
   "pygments_lexer": "ipython3",
   "version": "3.8.5"
  }
 },
 "nbformat": 4,
 "nbformat_minor": 5
}